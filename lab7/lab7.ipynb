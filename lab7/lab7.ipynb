{
  "cells": [
    {
      "cell_type": "markdown",
      "id": "2c01d229-b690-4d43-9356-b3e03026e0d7",
      "metadata": {
        "id": "2c01d229-b690-4d43-9356-b3e03026e0d7"
      },
      "source": [
        "## 🔧 1. Installation"
      ]
    },
    {
      "cell_type": "markdown",
      "id": "9f6fc617-0580-40e4-a132-84a4aa81fba6",
      "metadata": {
        "id": "9f6fc617-0580-40e4-a132-84a4aa81fba6"
      },
      "source": [
        "You can install PySpark via pip:\n",
        "```\n",
        "pip install pyspark\n",
        "```\n",
        "To verify the installation, run the following command in Python:"
      ]
    },
    {
      "cell_type": "code",
      "execution_count": 1,
      "id": "4045cab8-f55b-4a00-8728-e54fef9c99d3",
      "metadata": {
        "colab": {
          "base_uri": "https://localhost:8080/"
        },
        "id": "4045cab8-f55b-4a00-8728-e54fef9c99d3",
        "outputId": "baf77c85-de34-4b08-fee4-a68e3de27d29"
      },
      "outputs": [
        {
          "output_type": "stream",
          "name": "stdout",
          "text": [
            "3.5.1\n"
          ]
        }
      ],
      "source": [
        "import pyspark\n",
        "print(pyspark.__version__)"
      ]
    },
    {
      "cell_type": "markdown",
      "id": "873eef98-5769-466a-81f0-ce35a7eada6b",
      "metadata": {
        "id": "873eef98-5769-466a-81f0-ce35a7eada6b"
      },
      "source": [
        "Before intializing PySpark, please make sure your computer installed Java 8 or later, but Java 9+ can sometimes cause issues. To check your Java version, run:\n",
        "```{sh}\n",
        "java -version\n",
        "```\n",
        "You should see something like:\n",
        "```\n",
        "java version \"1.8.0_281\"\n",
        "```\n",
        "If Java is not installed, install it trough the link\n",
        "-  MacBook: [Install Java on MacBook](https://www.java.com/en/download/) (Check if your computer has Intel or Apple M CPU first)\n",
        "-  Windows: [Install Java on PC](https://www.java.com/download/ie_manual.jsp)"
      ]
    },
    {
      "cell_type": "markdown",
      "id": "6e4bb245-6e8a-4990-9472-ecfcf9ae9bbf",
      "metadata": {
        "id": "6e4bb245-6e8a-4990-9472-ecfcf9ae9bbf"
      },
      "source": [
        "## 🚀 2. Start a Spark Session"
      ]
    },
    {
      "cell_type": "code",
      "execution_count": 2,
      "id": "7acef92e-5093-4859-9ca5-c91af793a9bc",
      "metadata": {
        "id": "7acef92e-5093-4859-9ca5-c91af793a9bc"
      },
      "outputs": [],
      "source": [
        "from pyspark.sql import SparkSession\n",
        "\n",
        "spark = SparkSession.builder \\\n",
        "    .appName(\"PySpark_Tutorial\") \\\n",
        "    .master(\"local[*]\") \\\n",
        "    .getOrCreate()"
      ]
    },
    {
      "cell_type": "markdown",
      "id": "11fac4be-ec79-4e26-8a1a-9d8c80e64672",
      "metadata": {
        "id": "11fac4be-ec79-4e26-8a1a-9d8c80e64672"
      },
      "source": [
        "- `SparkSession.builder`: it starts building a new SparkSession configuration; you may treat it as a fluent API (a builder pattern) for customizing your Spark app.\n",
        "- `.appName(\"PySpark_Tutorial\")`: it sets the name of your Spark application\n",
        "- `.master(\"local[*]\")`: `\"local\"` tells Spark to run locally, not on a cluster; `\"*\"` tells Spark to use all available CPU cores on your machine.`\n",
        "- `.getOrCreate()`: Creates a new SparkSession or returns an existing one if it already exists."
      ]
    },
    {
      "cell_type": "markdown",
      "id": "b40ef85b-ad74-4d48-a7c6-6d4c0bb3a77f",
      "metadata": {
        "id": "b40ef85b-ad74-4d48-a7c6-6d4c0bb3a77f"
      },
      "source": [
        "## 📂 3. Load and Explore Data\n",
        "The data required for this example is saved at s3://de300spring2025/dinglin_xia/lab7_data/adult.csv.\n",
        "\n",
        "Assuming your file is named \"adult.csv\" and contains a column \"filtered\" (JSON array of words):\n",
        "We’ll walk through several important steps:\n",
        "\n",
        "1. Feature Engineering\n",
        "\n",
        "2. Bias Analysis on Marital Status\n",
        "\n",
        "3. Joining with Supplemental Gender Data\n",
        "\n",
        "4. Exporting Final Data"
      ]
    },
    {
      "cell_type": "code",
      "execution_count": 3,
      "id": "6bbe3712-567a-46be-84cc-66dccc795810",
      "metadata": {
        "id": "6bbe3712-567a-46be-84cc-66dccc795810"
      },
      "outputs": [],
      "source": [
        "from pyspark.sql import SparkSession\n",
        "from pyspark.sql.types import StructType, StructField, IntegerType, StringType, FloatType\n",
        "from pyspark.sql.dataframe import DataFrame\n",
        "from pyspark.sql.functions import col, when, isnan, isnull, count, avg, trim\n",
        "import os"
      ]
    },
    {
      "cell_type": "code",
      "execution_count": 4,
      "id": "a0feb1a8-a60d-4b3f-9c1c-4b9dcbf8c1eb",
      "metadata": {
        "id": "a0feb1a8-a60d-4b3f-9c1c-4b9dcbf8c1eb"
      },
      "outputs": [],
      "source": [
        "DATA_FOLDER = \"data\"\n",
        "# source https://www.statista.com/statistics/242030/marital-status-of-the-us-population-by-sex/\n",
        "# the first value is male and the second is for female\n",
        "MARITAL_STATUS_BY_GENDER = [\n",
        "    [\"Never-married\", 47.35, 41.81],\n",
        "    [\"Married-AF-spouse\", 67.54, 68.33],\n",
        "    [\"Widowed\", 3.58, 11.61],\n",
        "    [\"Divorced\", 10.82, 15.09]\n",
        "]\n",
        "MARITAL_STATUS_BY_GENDER_COLUMNS = [\"marital_status_statistics\", \"male\", \"female\"]"
      ]
    },
    {
      "cell_type": "markdown",
      "id": "1f82fc5d-9e0a-41db-9089-b2fbbe5286d8",
      "metadata": {
        "id": "1f82fc5d-9e0a-41db-9089-b2fbbe5286d8"
      },
      "source": [
        "### 📁 spark.read\n",
        "- `schema(schema)`: Tells Spark to use your predefined schema.\n",
        "\n",
        "- `option(\"header\", \"false\")`: There’s no header row in the CSV file.\n",
        "\n",
        "- `option(\"inferSchema\", \"false\")`: You don’t want Spark to guess column types.\n",
        "\n",
        "- `csv(...)`: Loads the CSV files from the given folder (wildcard *.csv means all CSVs).\n",
        "\n",
        "### 🧵 Repartition\n",
        "Repartitions the DataFrame into 8 partitions, which improves parallel processing."
      ]
    },
    {
      "cell_type": "code",
      "execution_count": 5,
      "id": "001d819f-2cc6-4342-b7a8-ee3fe21565c6",
      "metadata": {
        "id": "001d819f-2cc6-4342-b7a8-ee3fe21565c6"
      },
      "outputs": [],
      "source": [
        "def read_data(spark: SparkSession) -> DataFrame:\n",
        "    \"\"\"\n",
        "    read data based on the given schema; this is much faster than spark determining the schema\n",
        "    \"\"\"\n",
        "\n",
        "    # Define the schema for the dataset\n",
        "    # It tells Spark: 1. what column name to expect 2. what data type it should have 3. and whether it can contain null\n",
        "    # It's faster than letting Spark infer types.\n",
        "    schema = StructType([\n",
        "        StructField(\"age\", IntegerType(), True),\n",
        "        StructField(\"workclass\", StringType(), True),\n",
        "        StructField(\"fnlwgt\", FloatType(), True),\n",
        "        StructField(\"education\", StringType(), True),\n",
        "        StructField(\"education_num\", FloatType(), True),\n",
        "        StructField(\"marital_status\", StringType(), True),\n",
        "        StructField(\"occupation\", StringType(), True),\n",
        "        StructField(\"relationship\", StringType(), True),\n",
        "        StructField(\"race\", StringType(), True),\n",
        "        StructField(\"sex\", StringType(), True),\n",
        "        StructField(\"capital_gain\", FloatType(), True),\n",
        "        StructField(\"capital_loss\", FloatType(), True),\n",
        "        StructField(\"hours_per_week\", FloatType(), True),\n",
        "        StructField(\"native_country\", StringType(), True),\n",
        "        StructField(\"income\", StringType(), True)\n",
        "    ])\n",
        "\n",
        "    # Read the dataset\n",
        "    data = spark.read \\\n",
        "        .schema(schema) \\\n",
        "        .option(\"header\", \"false\") \\\n",
        "        .option(\"inferSchema\", \"false\") \\\n",
        "        .csv(\"adult.csv\")\n",
        "        #.csv(os.path.join(DATA_FOLDER,\"*.csv\"))\n",
        "\n",
        "    data = data.repartition(8)\n",
        "\n",
        "    # This loop finds all columns with FloatType and casts them to IntegerType\n",
        "    float_columns = [f.name for f in data.schema.fields if isinstance(f.dataType, FloatType)]\n",
        "    for v in float_columns:\n",
        "        data = data.withColumn(v, data[v].cast(IntegerType()))\n",
        "\n",
        "    # Get the names of all StringType columns\n",
        "    string_columns = [f.name for f in data.schema.fields if isinstance(f.dataType, StringType)]\n",
        "\n",
        "    # Remove leading and trailing spaces in all string columns\n",
        "    for column in string_columns:\n",
        "        data = data.withColumn(column, trim(data[column])) # Applies the trim() function to remove leading/trailing spaces, which is a common issue in raw CSVs.\n",
        "\n",
        "    # Show the first 5 rows of the dataset\n",
        "    data.show(5)\n",
        "\n",
        "    return data"
      ]
    },
    {
      "cell_type": "markdown",
      "id": "5fd279c5-c761-4af5-83b2-11d6633920e8",
      "metadata": {
        "id": "5fd279c5-c761-4af5-83b2-11d6633920e8"
      },
      "source": [
        "🔧 Breakdown of the query to count missing value\n",
        "- `data.columns`: List of all column names.\n",
        "\n",
        "- `isnan(c)`: Checks if a value is NaN (only for numeric types).\n",
        "\n",
        "- `isnull(c)`: Checks if a value is null (works for any type).\n",
        "\n",
        "- `when(condition, value)`: Creates a conditional column.\n",
        "\n",
        "- `count(...)`: Counts how many times that condition is met.\n",
        "\n",
        "- `.alias(c)`: Names the result column after the original column."
      ]
    },
    {
      "cell_type": "code",
      "execution_count": 6,
      "id": "a00d1148-ba19-4e77-9e11-9d78b0af2124",
      "metadata": {
        "id": "a00d1148-ba19-4e77-9e11-9d78b0af2124"
      },
      "outputs": [],
      "source": [
        "def missing_values(data: DataFrame) -> DataFrame:\n",
        "    \"\"\"\n",
        "    count the number of samples with missing values for each row\n",
        "    remove such samples\n",
        "    \"\"\"\n",
        "    # Count Missing Values per Column\n",
        "    missing_values = data.select([count(when(isnan(c) | isnull(c), c)).alias(c) for c in data.columns])\n",
        "\n",
        "    # Show the missing values count per column\n",
        "    missing_values.show()\n",
        "\n",
        "    # Get the number of samples in the DataFrame\n",
        "    num_samples = data.count()\n",
        "\n",
        "    # Print the number of samples\n",
        "    print(\"Number of samples:\", num_samples)\n",
        "\n",
        "    data = data.dropna()\n",
        "\n",
        "    return data"
      ]
    },
    {
      "cell_type": "markdown",
      "id": "23e17741-06c7-47a6-b399-e7457604feda",
      "metadata": {
        "id": "23e17741-06c7-47a6-b399-e7457604feda"
      },
      "source": [
        "### 📌 Feature Engineering Function\n",
        "📖 Explanation:\n",
        "This function programmatically finds all integer features and creates new features by multiplying each pair. It helps capture interaction effects for models or exploratory analysis.\n",
        "\n",
        "- `withColumn()` creates a new column in the DataFrame."
      ]
    },
    {
      "cell_type": "code",
      "execution_count": 7,
      "id": "7c2cf776-3fd6-45a7-8420-b4a34f280c1a",
      "metadata": {
        "id": "7c2cf776-3fd6-45a7-8420-b4a34f280c1a"
      },
      "outputs": [],
      "source": [
        "def feature_engineering(data: DataFrame) -> DataFrame:\n",
        "    \"\"\"\n",
        "    Calculate the product of each pair of integer features\n",
        "    \"\"\"\n",
        "    # Identify all integer-type columns in the dataset\n",
        "    integer_columns = [f.name for f in data.schema.fields if isinstance(f.dataType, IntegerType)]\n",
        "\n",
        "    # For each pair of integer columns, compute a new column that is their product\n",
        "    for i, col1 in enumerate(integer_columns):\n",
        "        for col2 in integer_columns[i:]:  # Avoid duplicate pairs\n",
        "            product_col_name = f\"{col1}_x_{col2}\"\n",
        "            data = data.withColumn(product_col_name, col(col1) * col(col2))\n",
        "\n",
        "    # Preview first 5 rows to check new columns\n",
        "    data.show(5)\n",
        "\n",
        "    return data"
      ]
    },
    {
      "cell_type": "markdown",
      "id": "126bc286-d8a4-43c8-9622-f77f130de689",
      "metadata": {
        "id": "126bc286-d8a4-43c8-9622-f77f130de689"
      },
      "source": [
        "### 📌 Analyze Bias by Marital Status\n",
        "📖 Explanation:\n",
        "This function investigates if capital_gain varies significantly with marital_status. It also filters and inspects a specific subgroup — divorced individuals — to facilitate further analysis or visualization.\n",
        "Compute Average Capital Gain by Marital Status\n",
        "- `groupBy(\"marital_status\")`: Groups the dataset by marital status (e.g., \"Married\", \"Single\", \"Divorced\").\n",
        "\n",
        "- `agg(...)`: Performs an aggregation, in this case avg(\"capital_gain\").\n",
        "\n",
        "- `alias(...)`: Renames the resulting column to \"average_capital_gain\".\n",
        "\n"
      ]
    },
    {
      "cell_type": "code",
      "execution_count": 8,
      "id": "ba7fe919-a492-4ab1-b81a-8ed349da2922",
      "metadata": {
        "id": "ba7fe919-a492-4ab1-b81a-8ed349da2922"
      },
      "outputs": [],
      "source": [
        "def bias_marital_status(data: DataFrame):\n",
        "    \"\"\"\n",
        "    Analyze if there's a bias in capital gain by marital status\n",
        "    \"\"\"\n",
        "    # Group by marital status and compute average capital gain\n",
        "    average_capital_gain = data.groupBy(\"marital_status\").agg(avg(\"capital_gain\").alias(\"average_capital_gain\"))\n",
        "    average_capital_gain.show()\n",
        "\n",
        "    # Filter only rows with marital_status == \"Divorced\"\n",
        "    divorced_data = data.filter(data.marital_status == \"Divorced\")\n",
        "    divorced_data.show(5)"
      ]
    },
    {
      "cell_type": "markdown",
      "id": "1903cc2d-0257-47f1-98be-30d4a7efd81c",
      "metadata": {
        "id": "1903cc2d-0257-47f1-98be-30d4a7efd81c"
      },
      "source": [
        "### 📌 Join with External Gender Statistics\n",
        "📖 Explanation:\n",
        "This function enriches the dataset by joining it with an external dataset containing U.S. gender distribution by marital status. The `outer` join ensures we keep unmatched records for completeness."
      ]
    },
    {
      "cell_type": "code",
      "execution_count": 9,
      "id": "74d546c6-97a3-48da-99ce-4fa7bab4e468",
      "metadata": {
        "id": "74d546c6-97a3-48da-99ce-4fa7bab4e468"
      },
      "outputs": [],
      "source": [
        "def join_with_US_gender(spark: SparkSession, data: DataFrame):\n",
        "    \"\"\"\n",
        "    Join with external data about marital status statistics by gender\n",
        "    \"\"\"\n",
        "    # Example data (assumed predefined in MARITAL_STATUS_BY_GENDER & *_COLUMNS)\n",
        "    us_df = spark.createDataFrame(MARITAL_STATUS_BY_GENDER, MARITAL_STATUS_BY_GENDER_COLUMNS)\n",
        "\n",
        "    # Outer join on marital_status\n",
        "    return data.join(us_df, data.marital_status == us_df.marital_status_statistics, 'outer')"
      ]
    },
    {
      "cell_type": "markdown",
      "id": "2822d331-8057-430a-88e7-0e8a0fbddd9b",
      "metadata": {
        "id": "2822d331-8057-430a-88e7-0e8a0fbddd9b"
      },
      "source": [
        "### ✅ Main Pipeline\n",
        "📖 Explanation:\n",
        "This function ties all preprocessing steps together and writes the result to a CSV file. You can run it with main() in a PySpark environment."
      ]
    },
    {
      "cell_type": "code",
      "execution_count": 10,
      "id": "7cb5e52c-cece-495e-9644-87a2de0a8b5d",
      "metadata": {
        "id": "7cb5e52c-cece-495e-9644-87a2de0a8b5d"
      },
      "outputs": [],
      "source": [
        "def main():\n",
        "    spark = SparkSession.builder.appName(\"Read Adult Dataset\").getOrCreate()\n",
        "\n",
        "    data = read_data(spark)               # Load dataset\n",
        "    data = missing_values(data)           # Handle missing values (assumed implemented)\n",
        "    data = feature_engineering(data)      # Add interaction features\n",
        "    bias_marital_status(data)             # Analyze capital gain by marital status\n",
        "    data = join_with_US_gender(spark, data)  # Enrich with gender statistics\n",
        "\n",
        "    data.show(5)                          # Preview final data\n",
        "    data.write.format('csv').option('header', 'true').mode('overwrite').save('saved.csv')  # Save"
      ]
    },
    {
      "cell_type": "code",
      "execution_count": 11,
      "id": "aa374bbe-e287-4e36-b9ee-758deeec36a6",
      "metadata": {
        "colab": {
          "base_uri": "https://localhost:8080/"
        },
        "id": "aa374bbe-e287-4e36-b9ee-758deeec36a6",
        "outputId": "afb58e9f-6181-4686-e45b-111e82d3cb10"
      },
      "outputs": [
        {
          "output_type": "stream",
          "name": "stdout",
          "text": [
            "+---+----------------+------+------------+-------------+------------------+--------------+-------------+-----+------+------------+------------+--------------+--------------+------+\n",
            "|age|       workclass|fnlwgt|   education|education_num|    marital_status|    occupation| relationship| race|   sex|capital_gain|capital_loss|hours_per_week|native_country|income|\n",
            "+---+----------------+------+------------+-------------+------------------+--------------+-------------+-----+------+------------+------------+--------------+--------------+------+\n",
            "| 72|Self-emp-not-inc| 52138|   Doctorate|           16|Married-civ-spouse|Prof-specialty|      Husband|White|  Male|           0|        2392|            25| United-States|  >50K|\n",
            "| 45|         Private|140581|Some-college|           10|           Widowed| Other-service|    Unmarried|Black|Female|           0|           0|            40| United-States| <=50K|\n",
            "| 55|       Local-gov| 84564| Prof-school|           15|          Divorced|Prof-specialty|Not-in-family|White|Female|           0|           0|            39| United-States| <=50K|\n",
            "| 37|         Private|356824|     HS-grad|            9|         Separated|  Tech-support|    Unmarried|White|Female|           0|           0|            40| United-States| <=50K|\n",
            "| 56|Self-emp-not-inc|175964|Some-college|           10|          Divorced| Other-service|Not-in-family|White|Female|           0|           0|            40| United-States| <=50K|\n",
            "+---+----------------+------+------------+-------------+------------------+--------------+-------------+-----+------+------------+------------+--------------+--------------+------+\n",
            "only showing top 5 rows\n",
            "\n",
            "+---+---------+------+---------+-------------+--------------+----------+------------+----+---+------------+------------+--------------+--------------+------+\n",
            "|age|workclass|fnlwgt|education|education_num|marital_status|occupation|relationship|race|sex|capital_gain|capital_loss|hours_per_week|native_country|income|\n",
            "+---+---------+------+---------+-------------+--------------+----------+------------+----+---+------------+------------+--------------+--------------+------+\n",
            "|  1|        0|     1|        0|            1|             0|         0|           0|   0|  0|           1|           1|             1|             0|     0|\n",
            "+---+---------+------+---------+-------------+--------------+----------+------------+----+---+------------+------------+--------------+--------------+------+\n",
            "\n",
            "Number of samples: 32562\n",
            "+---+----------------+------+------------+-------------+------------------+--------------+-------------+-----+------+------------+------------+--------------+--------------+------+---------+------------+-------------------+------------------+------------------+--------------------+---------------+----------------------+---------------------+---------------------+-----------------------+-----------------------------+----------------------------+----------------------------+------------------------------+---------------------------+---------------------------+-----------------------------+---------------------------+-----------------------------+-------------------------------+\n",
            "|age|       workclass|fnlwgt|   education|education_num|    marital_status|    occupation| relationship| race|   sex|capital_gain|capital_loss|hours_per_week|native_country|income|age_x_age|age_x_fnlwgt|age_x_education_num|age_x_capital_gain|age_x_capital_loss|age_x_hours_per_week|fnlwgt_x_fnlwgt|fnlwgt_x_education_num|fnlwgt_x_capital_gain|fnlwgt_x_capital_loss|fnlwgt_x_hours_per_week|education_num_x_education_num|education_num_x_capital_gain|education_num_x_capital_loss|education_num_x_hours_per_week|capital_gain_x_capital_gain|capital_gain_x_capital_loss|capital_gain_x_hours_per_week|capital_loss_x_capital_loss|capital_loss_x_hours_per_week|hours_per_week_x_hours_per_week|\n",
            "+---+----------------+------+------------+-------------+------------------+--------------+-------------+-----+------+------------+------------+--------------+--------------+------+---------+------------+-------------------+------------------+------------------+--------------------+---------------+----------------------+---------------------+---------------------+-----------------------+-----------------------------+----------------------------+----------------------------+------------------------------+---------------------------+---------------------------+-----------------------------+---------------------------+-----------------------------+-------------------------------+\n",
            "| 72|Self-emp-not-inc| 52138|   Doctorate|           16|Married-civ-spouse|Prof-specialty|      Husband|White|  Male|           0|        2392|            25| United-States|  >50K|     5184|     3753936|               1152|                 0|            172224|                1800|    -1576596252|                834208|                    0|            124714096|                1303450|                          256|                           0|                       38272|                           400|                          0|                          0|                            0|                    5721664|                        59800|                            625|\n",
            "| 45|         Private|140581|Some-college|           10|           Widowed| Other-service|    Unmarried|Black|Female|           0|           0|            40| United-States| <=50K|     2025|     6326145|                450|                 0|                 0|                1800|    -1711818919|               1405810|                    0|                    0|                5623240|                          100|                           0|                           0|                           400|                          0|                          0|                            0|                          0|                            0|                           1600|\n",
            "| 55|       Local-gov| 84564| Prof-school|           15|          Divorced|Prof-specialty|Not-in-family|White|Female|           0|           0|            39| United-States| <=50K|     3025|     4651020|                825|                 0|                 0|                2145|    -1438864496|               1268460|                    0|                    0|                3297996|                          225|                           0|                           0|                           585|                          0|                          0|                            0|                          0|                            0|                           1521|\n",
            "| 37|         Private|356824|     HS-grad|            9|         Separated|  Tech-support|    Unmarried|White|Female|           0|           0|            40| United-States| <=50K|     1369|    13202488|                333|                 0|                 0|                1480|    -1525651904|               3211416|                    0|                    0|               14272960|                           81|                           0|                           0|                           360|                          0|                          0|                            0|                          0|                            0|                           1600|\n",
            "| 56|Self-emp-not-inc|175964|Some-college|           10|          Divorced| Other-service|Not-in-family|White|Female|           0|           0|            40| United-States| <=50K|     3136|     9853984|                560|                 0|                 0|                2240|      898558224|               1759640|                    0|                    0|                7038560|                          100|                           0|                           0|                           400|                          0|                          0|                            0|                          0|                            0|                           1600|\n",
            "+---+----------------+------+------------+-------------+------------------+--------------+-------------+-----+------+------------+------------+--------------+--------------+------+---------+------------+-------------------+------------------+------------------+--------------------+---------------+----------------------+---------------------+---------------------+-----------------------+-----------------------------+----------------------------+----------------------------+------------------------------+---------------------------+---------------------------+-----------------------------+---------------------------+-----------------------------+-------------------------------+\n",
            "only showing top 5 rows\n",
            "\n",
            "+--------------------+--------------------+\n",
            "|      marital_status|average_capital_gain|\n",
            "+--------------------+--------------------+\n",
            "|           Separated|   535.5687804878049|\n",
            "|       Never-married|  376.58831788823363|\n",
            "|Married-spouse-ab...|   653.9832535885167|\n",
            "|            Divorced|   728.4148098131893|\n",
            "|             Widowed|   571.0715005035247|\n",
            "|   Married-AF-spouse|   432.6521739130435|\n",
            "|  Married-civ-spouse|  1764.8595085470085|\n",
            "+--------------------+--------------------+\n",
            "\n",
            "+---+----------------+------+------------+-------------+--------------+----------------+-------------+-----+------+------------+------------+--------------+--------------+------+---------+------------+-------------------+------------------+------------------+--------------------+---------------+----------------------+---------------------+---------------------+-----------------------+-----------------------------+----------------------------+----------------------------+------------------------------+---------------------------+---------------------------+-----------------------------+---------------------------+-----------------------------+-------------------------------+\n",
            "|age|       workclass|fnlwgt|   education|education_num|marital_status|      occupation| relationship| race|   sex|capital_gain|capital_loss|hours_per_week|native_country|income|age_x_age|age_x_fnlwgt|age_x_education_num|age_x_capital_gain|age_x_capital_loss|age_x_hours_per_week|fnlwgt_x_fnlwgt|fnlwgt_x_education_num|fnlwgt_x_capital_gain|fnlwgt_x_capital_loss|fnlwgt_x_hours_per_week|education_num_x_education_num|education_num_x_capital_gain|education_num_x_capital_loss|education_num_x_hours_per_week|capital_gain_x_capital_gain|capital_gain_x_capital_loss|capital_gain_x_hours_per_week|capital_loss_x_capital_loss|capital_loss_x_hours_per_week|hours_per_week_x_hours_per_week|\n",
            "+---+----------------+------+------------+-------------+--------------+----------------+-------------+-----+------+------------+------------+--------------+--------------+------+---------+------------+-------------------+------------------+------------------+--------------------+---------------+----------------------+---------------------+---------------------+-----------------------+-----------------------------+----------------------------+----------------------------+------------------------------+---------------------------+---------------------------+-----------------------------+---------------------------+-----------------------------+-------------------------------+\n",
            "| 36|         Private| 31438|     HS-grad|            9|      Divorced|Transport-moving|    Unmarried|White|  Male|           0|           0|            43|             ?| <=50K|     1296|     1131768|                324|                 0|                 0|                1548|      988347844|                282942|                    0|                    0|                1351834|                           81|                           0|                           0|                           387|                          0|                          0|                            0|                          0|                            0|                           1849|\n",
            "| 45|         Private|220641|Some-college|           10|      Divorced| Exec-managerial|    Unmarried|White|Female|           0|           0|            40| United-States| <=50K|     2025|     9928845|                450|                 0|                 0|                1800|     1437810625|               2206410|                    0|                    0|                8825640|                          100|                           0|                           0|                           400|                          0|                          0|                            0|                          0|                            0|                           1600|\n",
            "| 57|     Federal-gov| 66504| Prof-school|           15|      Divorced|  Prof-specialty|Not-in-family|White|Female|           0|           0|            50| United-States|  >50K|     3249|     3790728|                855|                 0|                 0|                2850|      127814720|                997560|                    0|                    0|                3325200|                          225|                           0|                           0|                           750|                          0|                          0|                            0|                          0|                            0|                           2500|\n",
            "| 49|Self-emp-not-inc|107597|     HS-grad|            9|      Divorced| Exec-managerial|    Unmarried|White|Female|       14084|           0|            30| United-States|  >50K|     2401|     5272253|                441|            690116|                 0|                1470|    -1307787479|                968373|           1515396148|                    0|                3227910|                           81|                      126756|                           0|                           270|                  198359056|                          0|                       422520|                          0|                            0|                            900|\n",
            "| 30|         Private|399088|Some-college|           10|      Divorced|    Adm-clerical|Not-in-family|White|Female|           0|           0|            45| United-States| <=50K|      900|    11972640|                300|                 0|                 0|                1350|      357441792|               3990880|                    0|                    0|               17958960|                          100|                           0|                           0|                           450|                          0|                          0|                            0|                          0|                            0|                           2025|\n",
            "+---+----------------+------+------------+-------------+--------------+----------------+-------------+-----+------+------------+------------+--------------+--------------+------+---------+------------+-------------------+------------------+------------------+--------------------+---------------+----------------------+---------------------+---------------------+-----------------------+-----------------------------+----------------------------+----------------------------+------------------------------+---------------------------+---------------------------+-----------------------------+---------------------------+-----------------------------+-------------------------------+\n",
            "only showing top 5 rows\n",
            "\n",
            "+---+----------------+------+------------+-------------+--------------+--------------+-------------+-----+------+------------+------------+--------------+--------------+------+---------+------------+-------------------+------------------+------------------+--------------------+---------------+----------------------+---------------------+---------------------+-----------------------+-----------------------------+----------------------------+----------------------------+------------------------------+---------------------------+---------------------------+-----------------------------+---------------------------+-----------------------------+-------------------------------+-------------------------+-----+------+\n",
            "|age|       workclass|fnlwgt|   education|education_num|marital_status|    occupation| relationship| race|   sex|capital_gain|capital_loss|hours_per_week|native_country|income|age_x_age|age_x_fnlwgt|age_x_education_num|age_x_capital_gain|age_x_capital_loss|age_x_hours_per_week|fnlwgt_x_fnlwgt|fnlwgt_x_education_num|fnlwgt_x_capital_gain|fnlwgt_x_capital_loss|fnlwgt_x_hours_per_week|education_num_x_education_num|education_num_x_capital_gain|education_num_x_capital_loss|education_num_x_hours_per_week|capital_gain_x_capital_gain|capital_gain_x_capital_loss|capital_gain_x_hours_per_week|capital_loss_x_capital_loss|capital_loss_x_hours_per_week|hours_per_week_x_hours_per_week|marital_status_statistics| male|female|\n",
            "+---+----------------+------+------------+-------------+--------------+--------------+-------------+-----+------+------------+------------+--------------+--------------+------+---------+------------+-------------------+------------------+------------------+--------------------+---------------+----------------------+---------------------+---------------------+-----------------------+-----------------------------+----------------------------+----------------------------+------------------------------+---------------------------+---------------------------+-----------------------------+---------------------------+-----------------------------+-------------------------------+-------------------------+-----+------+\n",
            "| 55|       Local-gov| 84564| Prof-school|           15|      Divorced|Prof-specialty|Not-in-family|White|Female|           0|           0|            39| United-States| <=50K|     3025|     4651020|                825|                 0|                 0|                2145|    -1438864496|               1268460|                    0|                    0|                3297996|                          225|                           0|                           0|                           585|                          0|                          0|                            0|                          0|                            0|                           1521|                 Divorced|10.82| 15.09|\n",
            "| 56|Self-emp-not-inc|175964|Some-college|           10|      Divorced| Other-service|Not-in-family|White|Female|           0|           0|            40| United-States| <=50K|     3136|     9853984|                560|                 0|                 0|                2240|      898558224|               1759640|                    0|                    0|                7038560|                          100|                           0|                           0|                           400|                          0|                          0|                            0|                          0|                            0|                           1600|                 Divorced|10.82| 15.09|\n",
            "| 52|         Private| 48947|Some-college|           10|      Divorced|  Adm-clerical|    Unmarried|White|Female|           0|           0|            45| United-States| <=50K|     2704|     2545244|                520|                 0|                 0|                2340|    -1899158487|                489470|                    0|                    0|                2202615|                          100|                           0|                           0|                           450|                          0|                          0|                            0|                          0|                            0|                           2025|                 Divorced|10.82| 15.09|\n",
            "| 45|         Private|177543|     HS-grad|            9|      Divorced|  Adm-clerical|    Unmarried|White|Female|           0|           0|            28| United-States| <=50K|     2025|     7989435|                405|                 0|                 0|                1260|     1456745777|               1597887|                    0|                    0|                4971204|                           81|                           0|                           0|                           252|                          0|                          0|                            0|                          0|                            0|                            784|                 Divorced|10.82| 15.09|\n",
            "| 26|       State-gov|177035|        11th|            7|      Divorced| Other-service|    Unmarried|White|Female|           0|           0|            40| United-States| <=50K|      676|     4602910|                182|                 0|                 0|                1040|     1276620153|               1239245|                    0|                    0|                7081400|                           49|                           0|                           0|                           280|                          0|                          0|                            0|                          0|                            0|                           1600|                 Divorced|10.82| 15.09|\n",
            "+---+----------------+------+------------+-------------+--------------+--------------+-------------+-----+------+------------+------------+--------------+--------------+------+---------+------------+-------------------+------------------+------------------+--------------------+---------------+----------------------+---------------------+---------------------+-----------------------+-----------------------------+----------------------------+----------------------------+------------------------------+---------------------------+---------------------------+-----------------------------+---------------------------+-----------------------------+-------------------------------+-------------------------+-----+------+\n",
            "only showing top 5 rows\n",
            "\n"
          ]
        }
      ],
      "source": [
        "main()"
      ]
    },
    {
      "cell_type": "markdown",
      "id": "a39619e2-5dfa-4671-9ffc-0ce9b8b8c90e",
      "metadata": {
        "id": "a39619e2-5dfa-4671-9ffc-0ce9b8b8c90e"
      },
      "source": [
        "## Lab Assignment\n",
        "### 1.  Spark-sql\n",
        "Add one more cell in to select rows with 'age' between 30 and 50 (inclusive) and transforms the selected pyspark dataframe into pandas dataframe and print out the summary statistics using 'describe()'. Some useful methods are:\n",
        "- `filter(...)`: filters Spark DataFrame rows using boolean conditions\n",
        "- `.toPandas()`: collects the Spark DataFrame into memory, so only use it on small to medium datasets\n",
        "- `.describe()`: gives summary stats (mean, std, min, max, quartiles)"
      ]
    },
    {
      "cell_type": "code",
      "execution_count": 15,
      "id": "fbe76370-7067-4298-a6f0-179c17091339",
      "metadata": {
        "id": "fbe76370-7067-4298-a6f0-179c17091339"
      },
      "outputs": [],
      "source": [
        "def describe_age_range(data: DataFrame, lower: int = 30, upper: int = 50):\n",
        "    \"\"\"\n",
        "    Filters rows where age is between `lower` and `upper` (inclusive),\n",
        "    converts to pandas DataFrame, and prints summary statistics.\n",
        "    \"\"\"\n",
        "    # Filter Spark DataFrame\n",
        "    filtered_data = data.filter((data.age >= lower) & (data.age <= upper))\n",
        "\n",
        "    # Convert to pandas\n",
        "    pandas_df = filtered_data.toPandas()\n",
        "\n",
        "    # Print summary statistics\n",
        "    print(f\"Summary statistics for age between {lower} and {upper}:\")\n",
        "    print(pandas_df.describe())\n",
        "\n",
        "    return pandas_df  # Optional: return if you want to use it later"
      ]
    },
    {
      "cell_type": "code",
      "execution_count": 16,
      "id": "5140ce68-45d8-42ca-84c1-2d4d23397dae",
      "metadata": {
        "id": "5140ce68-45d8-42ca-84c1-2d4d23397dae"
      },
      "outputs": [],
      "source": [
        "def main():\n",
        "    spark = SparkSession.builder.appName(\"Read Adult Dataset\").getOrCreate()\n",
        "\n",
        "    data = read_data(spark)               # Load dataset\n",
        "    data = missing_values(data)           # Handle missing values (assumed implemented)\n",
        "    data = feature_engineering(data)      # Add interaction features\n",
        "    bias_marital_status(data)             # Analyze capital gain by marital status\n",
        "    data = join_with_US_gender(spark, data)  # Enrich with gender statistics\n",
        "\n",
        "    data_df = describe_age_range(data)    # Select and Transform\n",
        "\n",
        "    data.show(5)                          # Preview final data\n",
        "    data.write.format('csv').option('header', 'true').mode('overwrite').save('saved.csv')  # Save"
      ]
    },
    {
      "cell_type": "code",
      "execution_count": 17,
      "id": "61eebf4c-e389-4d93-96a0-65e64bf19774",
      "metadata": {
        "colab": {
          "base_uri": "https://localhost:8080/"
        },
        "id": "61eebf4c-e389-4d93-96a0-65e64bf19774",
        "outputId": "dd7c9316-7c7b-46fe-b103-c29da0a9bc6e"
      },
      "outputs": [
        {
          "output_type": "stream",
          "name": "stdout",
          "text": [
            "+---+----------------+------+------------+-------------+------------------+--------------+-------------+-----+------+------------+------------+--------------+--------------+------+\n",
            "|age|       workclass|fnlwgt|   education|education_num|    marital_status|    occupation| relationship| race|   sex|capital_gain|capital_loss|hours_per_week|native_country|income|\n",
            "+---+----------------+------+------------+-------------+------------------+--------------+-------------+-----+------+------------+------------+--------------+--------------+------+\n",
            "| 72|Self-emp-not-inc| 52138|   Doctorate|           16|Married-civ-spouse|Prof-specialty|      Husband|White|  Male|           0|        2392|            25| United-States|  >50K|\n",
            "| 45|         Private|140581|Some-college|           10|           Widowed| Other-service|    Unmarried|Black|Female|           0|           0|            40| United-States| <=50K|\n",
            "| 55|       Local-gov| 84564| Prof-school|           15|          Divorced|Prof-specialty|Not-in-family|White|Female|           0|           0|            39| United-States| <=50K|\n",
            "| 37|         Private|356824|     HS-grad|            9|         Separated|  Tech-support|    Unmarried|White|Female|           0|           0|            40| United-States| <=50K|\n",
            "| 56|Self-emp-not-inc|175964|Some-college|           10|          Divorced| Other-service|Not-in-family|White|Female|           0|           0|            40| United-States| <=50K|\n",
            "+---+----------------+------+------------+-------------+------------------+--------------+-------------+-----+------+------------+------------+--------------+--------------+------+\n",
            "only showing top 5 rows\n",
            "\n",
            "+---+---------+------+---------+-------------+--------------+----------+------------+----+---+------------+------------+--------------+--------------+------+\n",
            "|age|workclass|fnlwgt|education|education_num|marital_status|occupation|relationship|race|sex|capital_gain|capital_loss|hours_per_week|native_country|income|\n",
            "+---+---------+------+---------+-------------+--------------+----------+------------+----+---+------------+------------+--------------+--------------+------+\n",
            "|  1|        0|     1|        0|            1|             0|         0|           0|   0|  0|           1|           1|             1|             0|     0|\n",
            "+---+---------+------+---------+-------------+--------------+----------+------------+----+---+------------+------------+--------------+--------------+------+\n",
            "\n",
            "Number of samples: 32562\n",
            "+---+----------------+------+------------+-------------+------------------+--------------+-------------+-----+------+------------+------------+--------------+--------------+------+---------+------------+-------------------+------------------+------------------+--------------------+---------------+----------------------+---------------------+---------------------+-----------------------+-----------------------------+----------------------------+----------------------------+------------------------------+---------------------------+---------------------------+-----------------------------+---------------------------+-----------------------------+-------------------------------+\n",
            "|age|       workclass|fnlwgt|   education|education_num|    marital_status|    occupation| relationship| race|   sex|capital_gain|capital_loss|hours_per_week|native_country|income|age_x_age|age_x_fnlwgt|age_x_education_num|age_x_capital_gain|age_x_capital_loss|age_x_hours_per_week|fnlwgt_x_fnlwgt|fnlwgt_x_education_num|fnlwgt_x_capital_gain|fnlwgt_x_capital_loss|fnlwgt_x_hours_per_week|education_num_x_education_num|education_num_x_capital_gain|education_num_x_capital_loss|education_num_x_hours_per_week|capital_gain_x_capital_gain|capital_gain_x_capital_loss|capital_gain_x_hours_per_week|capital_loss_x_capital_loss|capital_loss_x_hours_per_week|hours_per_week_x_hours_per_week|\n",
            "+---+----------------+------+------------+-------------+------------------+--------------+-------------+-----+------+------------+------------+--------------+--------------+------+---------+------------+-------------------+------------------+------------------+--------------------+---------------+----------------------+---------------------+---------------------+-----------------------+-----------------------------+----------------------------+----------------------------+------------------------------+---------------------------+---------------------------+-----------------------------+---------------------------+-----------------------------+-------------------------------+\n",
            "| 72|Self-emp-not-inc| 52138|   Doctorate|           16|Married-civ-spouse|Prof-specialty|      Husband|White|  Male|           0|        2392|            25| United-States|  >50K|     5184|     3753936|               1152|                 0|            172224|                1800|    -1576596252|                834208|                    0|            124714096|                1303450|                          256|                           0|                       38272|                           400|                          0|                          0|                            0|                    5721664|                        59800|                            625|\n",
            "| 45|         Private|140581|Some-college|           10|           Widowed| Other-service|    Unmarried|Black|Female|           0|           0|            40| United-States| <=50K|     2025|     6326145|                450|                 0|                 0|                1800|    -1711818919|               1405810|                    0|                    0|                5623240|                          100|                           0|                           0|                           400|                          0|                          0|                            0|                          0|                            0|                           1600|\n",
            "| 55|       Local-gov| 84564| Prof-school|           15|          Divorced|Prof-specialty|Not-in-family|White|Female|           0|           0|            39| United-States| <=50K|     3025|     4651020|                825|                 0|                 0|                2145|    -1438864496|               1268460|                    0|                    0|                3297996|                          225|                           0|                           0|                           585|                          0|                          0|                            0|                          0|                            0|                           1521|\n",
            "| 37|         Private|356824|     HS-grad|            9|         Separated|  Tech-support|    Unmarried|White|Female|           0|           0|            40| United-States| <=50K|     1369|    13202488|                333|                 0|                 0|                1480|    -1525651904|               3211416|                    0|                    0|               14272960|                           81|                           0|                           0|                           360|                          0|                          0|                            0|                          0|                            0|                           1600|\n",
            "| 56|Self-emp-not-inc|175964|Some-college|           10|          Divorced| Other-service|Not-in-family|White|Female|           0|           0|            40| United-States| <=50K|     3136|     9853984|                560|                 0|                 0|                2240|      898558224|               1759640|                    0|                    0|                7038560|                          100|                           0|                           0|                           400|                          0|                          0|                            0|                          0|                            0|                           1600|\n",
            "+---+----------------+------+------------+-------------+------------------+--------------+-------------+-----+------+------------+------------+--------------+--------------+------+---------+------------+-------------------+------------------+------------------+--------------------+---------------+----------------------+---------------------+---------------------+-----------------------+-----------------------------+----------------------------+----------------------------+------------------------------+---------------------------+---------------------------+-----------------------------+---------------------------+-----------------------------+-------------------------------+\n",
            "only showing top 5 rows\n",
            "\n",
            "+--------------------+--------------------+\n",
            "|      marital_status|average_capital_gain|\n",
            "+--------------------+--------------------+\n",
            "|           Separated|   535.5687804878049|\n",
            "|       Never-married|  376.58831788823363|\n",
            "|Married-spouse-ab...|   653.9832535885167|\n",
            "|            Divorced|   728.4148098131893|\n",
            "|             Widowed|   571.0715005035247|\n",
            "|   Married-AF-spouse|   432.6521739130435|\n",
            "|  Married-civ-spouse|  1764.8595085470085|\n",
            "+--------------------+--------------------+\n",
            "\n",
            "+---+----------------+------+------------+-------------+--------------+----------------+-------------+-----+------+------------+------------+--------------+--------------+------+---------+------------+-------------------+------------------+------------------+--------------------+---------------+----------------------+---------------------+---------------------+-----------------------+-----------------------------+----------------------------+----------------------------+------------------------------+---------------------------+---------------------------+-----------------------------+---------------------------+-----------------------------+-------------------------------+\n",
            "|age|       workclass|fnlwgt|   education|education_num|marital_status|      occupation| relationship| race|   sex|capital_gain|capital_loss|hours_per_week|native_country|income|age_x_age|age_x_fnlwgt|age_x_education_num|age_x_capital_gain|age_x_capital_loss|age_x_hours_per_week|fnlwgt_x_fnlwgt|fnlwgt_x_education_num|fnlwgt_x_capital_gain|fnlwgt_x_capital_loss|fnlwgt_x_hours_per_week|education_num_x_education_num|education_num_x_capital_gain|education_num_x_capital_loss|education_num_x_hours_per_week|capital_gain_x_capital_gain|capital_gain_x_capital_loss|capital_gain_x_hours_per_week|capital_loss_x_capital_loss|capital_loss_x_hours_per_week|hours_per_week_x_hours_per_week|\n",
            "+---+----------------+------+------------+-------------+--------------+----------------+-------------+-----+------+------------+------------+--------------+--------------+------+---------+------------+-------------------+------------------+------------------+--------------------+---------------+----------------------+---------------------+---------------------+-----------------------+-----------------------------+----------------------------+----------------------------+------------------------------+---------------------------+---------------------------+-----------------------------+---------------------------+-----------------------------+-------------------------------+\n",
            "| 36|         Private| 31438|     HS-grad|            9|      Divorced|Transport-moving|    Unmarried|White|  Male|           0|           0|            43|             ?| <=50K|     1296|     1131768|                324|                 0|                 0|                1548|      988347844|                282942|                    0|                    0|                1351834|                           81|                           0|                           0|                           387|                          0|                          0|                            0|                          0|                            0|                           1849|\n",
            "| 45|         Private|220641|Some-college|           10|      Divorced| Exec-managerial|    Unmarried|White|Female|           0|           0|            40| United-States| <=50K|     2025|     9928845|                450|                 0|                 0|                1800|     1437810625|               2206410|                    0|                    0|                8825640|                          100|                           0|                           0|                           400|                          0|                          0|                            0|                          0|                            0|                           1600|\n",
            "| 57|     Federal-gov| 66504| Prof-school|           15|      Divorced|  Prof-specialty|Not-in-family|White|Female|           0|           0|            50| United-States|  >50K|     3249|     3790728|                855|                 0|                 0|                2850|      127814720|                997560|                    0|                    0|                3325200|                          225|                           0|                           0|                           750|                          0|                          0|                            0|                          0|                            0|                           2500|\n",
            "| 49|Self-emp-not-inc|107597|     HS-grad|            9|      Divorced| Exec-managerial|    Unmarried|White|Female|       14084|           0|            30| United-States|  >50K|     2401|     5272253|                441|            690116|                 0|                1470|    -1307787479|                968373|           1515396148|                    0|                3227910|                           81|                      126756|                           0|                           270|                  198359056|                          0|                       422520|                          0|                            0|                            900|\n",
            "| 30|         Private|399088|Some-college|           10|      Divorced|    Adm-clerical|Not-in-family|White|Female|           0|           0|            45| United-States| <=50K|      900|    11972640|                300|                 0|                 0|                1350|      357441792|               3990880|                    0|                    0|               17958960|                          100|                           0|                           0|                           450|                          0|                          0|                            0|                          0|                            0|                           2025|\n",
            "+---+----------------+------+------------+-------------+--------------+----------------+-------------+-----+------+------------+------------+--------------+--------------+------+---------+------------+-------------------+------------------+------------------+--------------------+---------------+----------------------+---------------------+---------------------+-----------------------+-----------------------------+----------------------------+----------------------------+------------------------------+---------------------------+---------------------------+-----------------------------+---------------------------+-----------------------------+-------------------------------+\n",
            "only showing top 5 rows\n",
            "\n",
            "Summary statistics for age between 30 and 50:\n",
            "                age        fnlwgt  education_num  capital_gain  capital_loss  \\\n",
            "count  16390.000000  1.639000e+04   16390.000000  16390.000000  16390.000000   \n",
            "mean      39.298109  1.895854e+05      10.434655   1296.275595    102.861928   \n",
            "std        5.895005  1.068750e+05       2.522236   8181.593110    432.962380   \n",
            "min       30.000000  1.487800e+04       1.000000      0.000000      0.000000   \n",
            "25%       34.000000  1.169285e+05       9.000000      0.000000      0.000000   \n",
            "50%       39.000000  1.778765e+05      10.000000      0.000000      0.000000   \n",
            "75%       44.000000  2.364150e+05      13.000000      0.000000      0.000000   \n",
            "max       50.000000  1.455435e+06      16.000000  99999.000000   3900.000000   \n",
            "\n",
            "       hours_per_week     age_x_age  age_x_fnlwgt  age_x_education_num  \\\n",
            "count    16390.000000  16390.000000  1.639000e+04         16390.000000   \n",
            "mean        43.261440   1579.090299  7.420700e+06           410.665040   \n",
            "std         10.885127    469.097536  4.274383e+06           120.548608   \n",
            "min          1.000000    900.000000  5.790600e+05            30.000000   \n",
            "25%         40.000000   1156.000000  4.589637e+06           330.000000   \n",
            "50%         40.000000   1521.000000  6.840798e+06           403.000000   \n",
            "75%         48.000000   1936.000000  9.360606e+06           480.000000   \n",
            "max         99.000000   2500.000000  6.147540e+07           800.000000   \n",
            "\n",
            "       age_x_capital_gain  ...  education_num_x_capital_loss  \\\n",
            "count        1.639000e+04  ...                  16390.000000   \n",
            "mean         5.333641e+04  ...                   1162.775412   \n",
            "std          3.458581e+05  ...                   5056.824911   \n",
            "min          0.000000e+00  ...                      0.000000   \n",
            "25%          0.000000e+00  ...                      0.000000   \n",
            "50%          0.000000e+00  ...                      0.000000   \n",
            "75%          0.000000e+00  ...                      0.000000   \n",
            "max          4.999950e+06  ...                  48064.000000   \n",
            "\n",
            "       education_num_x_hours_per_week  capital_gain_x_capital_gain  \\\n",
            "count                    16390.000000                 1.639000e+04   \n",
            "mean                       454.826174                 1.620511e+07   \n",
            "std                        170.628305                 1.174326e+08   \n",
            "min                         12.000000                 0.000000e+00   \n",
            "25%                        360.000000                 0.000000e+00   \n",
            "50%                        420.000000                 0.000000e+00   \n",
            "75%                        540.000000                 0.000000e+00   \n",
            "max                       1584.000000                 1.409865e+09   \n",
            "\n",
            "       capital_gain_x_capital_loss  capital_gain_x_hours_per_week  \\\n",
            "count                      16390.0                   1.639000e+04   \n",
            "mean                           0.0                   6.364586e+04   \n",
            "std                            0.0                   4.358265e+05   \n",
            "min                            0.0                   0.000000e+00   \n",
            "25%                            0.0                   0.000000e+00   \n",
            "50%                            0.0                   0.000000e+00   \n",
            "75%                            0.0                   0.000000e+00   \n",
            "max                            0.0                   7.999920e+06   \n",
            "\n",
            "       capital_loss_x_capital_loss  capital_loss_x_hours_per_week  \\\n",
            "count                 1.639000e+04                   16390.000000   \n",
            "mean                  1.980256e+05                    4689.146797   \n",
            "std                   8.750665e+05                   20548.383270   \n",
            "min                   0.000000e+00                       0.000000   \n",
            "25%                   0.000000e+00                       0.000000   \n",
            "50%                   0.000000e+00                       0.000000   \n",
            "75%                   0.000000e+00                       0.000000   \n",
            "max                   1.521000e+07                  239085.000000   \n",
            "\n",
            "       hours_per_week_x_hours_per_week         male       female  \n",
            "count                     16390.000000  6358.000000  6358.000000  \n",
            "mean                       1990.030933    28.422400    28.048213  \n",
            "std                        1076.631521    18.604362    13.580131  \n",
            "min                           1.000000     3.580000    11.610000  \n",
            "25%                        1600.000000    10.820000    15.090000  \n",
            "50%                        1600.000000    10.820000    15.090000  \n",
            "75%                        2304.000000    47.350000    41.810000  \n",
            "max                        9801.000000    67.540000    68.330000  \n",
            "\n",
            "[8 rows x 29 columns]\n",
            "+---+----------------+------+------------+-------------+--------------+--------------+-------------+-----+------+------------+------------+--------------+--------------+------+---------+------------+-------------------+------------------+------------------+--------------------+---------------+----------------------+---------------------+---------------------+-----------------------+-----------------------------+----------------------------+----------------------------+------------------------------+---------------------------+---------------------------+-----------------------------+---------------------------+-----------------------------+-------------------------------+-------------------------+-----+------+\n",
            "|age|       workclass|fnlwgt|   education|education_num|marital_status|    occupation| relationship| race|   sex|capital_gain|capital_loss|hours_per_week|native_country|income|age_x_age|age_x_fnlwgt|age_x_education_num|age_x_capital_gain|age_x_capital_loss|age_x_hours_per_week|fnlwgt_x_fnlwgt|fnlwgt_x_education_num|fnlwgt_x_capital_gain|fnlwgt_x_capital_loss|fnlwgt_x_hours_per_week|education_num_x_education_num|education_num_x_capital_gain|education_num_x_capital_loss|education_num_x_hours_per_week|capital_gain_x_capital_gain|capital_gain_x_capital_loss|capital_gain_x_hours_per_week|capital_loss_x_capital_loss|capital_loss_x_hours_per_week|hours_per_week_x_hours_per_week|marital_status_statistics| male|female|\n",
            "+---+----------------+------+------------+-------------+--------------+--------------+-------------+-----+------+------------+------------+--------------+--------------+------+---------+------------+-------------------+------------------+------------------+--------------------+---------------+----------------------+---------------------+---------------------+-----------------------+-----------------------------+----------------------------+----------------------------+------------------------------+---------------------------+---------------------------+-----------------------------+---------------------------+-----------------------------+-------------------------------+-------------------------+-----+------+\n",
            "| 55|       Local-gov| 84564| Prof-school|           15|      Divorced|Prof-specialty|Not-in-family|White|Female|           0|           0|            39| United-States| <=50K|     3025|     4651020|                825|                 0|                 0|                2145|    -1438864496|               1268460|                    0|                    0|                3297996|                          225|                           0|                           0|                           585|                          0|                          0|                            0|                          0|                            0|                           1521|                 Divorced|10.82| 15.09|\n",
            "| 56|Self-emp-not-inc|175964|Some-college|           10|      Divorced| Other-service|Not-in-family|White|Female|           0|           0|            40| United-States| <=50K|     3136|     9853984|                560|                 0|                 0|                2240|      898558224|               1759640|                    0|                    0|                7038560|                          100|                           0|                           0|                           400|                          0|                          0|                            0|                          0|                            0|                           1600|                 Divorced|10.82| 15.09|\n",
            "| 52|         Private| 48947|Some-college|           10|      Divorced|  Adm-clerical|    Unmarried|White|Female|           0|           0|            45| United-States| <=50K|     2704|     2545244|                520|                 0|                 0|                2340|    -1899158487|                489470|                    0|                    0|                2202615|                          100|                           0|                           0|                           450|                          0|                          0|                            0|                          0|                            0|                           2025|                 Divorced|10.82| 15.09|\n",
            "| 45|         Private|177543|     HS-grad|            9|      Divorced|  Adm-clerical|    Unmarried|White|Female|           0|           0|            28| United-States| <=50K|     2025|     7989435|                405|                 0|                 0|                1260|     1456745777|               1597887|                    0|                    0|                4971204|                           81|                           0|                           0|                           252|                          0|                          0|                            0|                          0|                            0|                            784|                 Divorced|10.82| 15.09|\n",
            "| 26|       State-gov|177035|        11th|            7|      Divorced| Other-service|    Unmarried|White|Female|           0|           0|            40| United-States| <=50K|      676|     4602910|                182|                 0|                 0|                1040|     1276620153|               1239245|                    0|                    0|                7081400|                           49|                           0|                           0|                           280|                          0|                          0|                            0|                          0|                            0|                           1600|                 Divorced|10.82| 15.09|\n",
            "+---+----------------+------+------------+-------------+--------------+--------------+-------------+-----+------+------------+------------+--------------+--------------+------+---------+------------+-------------------+------------------+------------------+--------------------+---------------+----------------------+---------------------+---------------------+-----------------------+-----------------------------+----------------------------+----------------------------+------------------------------+---------------------------+---------------------------+-----------------------------+---------------------------+-----------------------------+-------------------------------+-------------------------+-----+------+\n",
            "only showing top 5 rows\n",
            "\n"
          ]
        }
      ],
      "source": [
        "main()"
      ]
    },
    {
      "cell_type": "code",
      "execution_count": 18,
      "id": "e6d57e78-917d-47db-b43e-081f6a24ac2e",
      "metadata": {
        "id": "e6d57e78-917d-47db-b43e-081f6a24ac2e"
      },
      "outputs": [],
      "source": [
        "spark.stop()"
      ]
    },
    {
      "cell_type": "markdown",
      "id": "6e4e1eca-854e-40f5-a4bd-1d0e3a58308a",
      "metadata": {
        "id": "6e4e1eca-854e-40f5-a4bd-1d0e3a58308a"
      },
      "source": [
        "### 2. Word Count\n",
        "Save only the words that have count greater or equal to 3.\n",
        "\n",
        "#### 1. Setup Spark Session"
      ]
    },
    {
      "cell_type": "code",
      "execution_count": 19,
      "id": "30e7fa0a-4769-4129-8288-ae2a2d4d33f4",
      "metadata": {
        "id": "30e7fa0a-4769-4129-8288-ae2a2d4d33f4"
      },
      "outputs": [],
      "source": [
        "from pyspark.sql import SparkSession\n",
        "\n",
        "spark = SparkSession.builder \\\n",
        "    .appName(\"WordCount\") \\\n",
        "    .master(\"local[*]\") \\\n",
        "    .getOrCreate()"
      ]
    },
    {
      "cell_type": "markdown",
      "id": "d1b8ca0c-bbdf-4b25-8f8f-2aefb008dabb",
      "metadata": {
        "id": "d1b8ca0c-bbdf-4b25-8f8f-2aefb008dabb"
      },
      "source": [
        "#### 2. Read Text File\n",
        "Fill in your text file direction"
      ]
    },
    {
      "cell_type": "code",
      "execution_count": 20,
      "id": "670d34cc-1161-48b9-8591-62b9ca1c3598",
      "metadata": {
        "colab": {
          "base_uri": "https://localhost:8080/"
        },
        "id": "670d34cc-1161-48b9-8591-62b9ca1c3598",
        "outputId": "aa9fffdb-c952-495d-baaa-dae8e536513e"
      },
      "outputs": [
        {
          "output_type": "stream",
          "name": "stdout",
          "text": [
            "+--------------------+\n",
            "|               value|\n",
            "+--------------------+\n",
            "|A Desperate Push ...|\n",
            "|   By Catrin Einhorn|\n",
            "|Photographs by Ja...|\n",
            "|       July 31, 2023|\n",
            "|                    |\n",
            "|When Bailey Thoma...|\n",
            "|“The coral didn’t...|\n",
            "|“It just felt lik...|\n",
            "|With climate chan...|\n",
            "|While marine heat...|\n",
            "|The mass coral bl...|\n",
            "|“I fear for the w...|\n",
            "|Ms. Thomasson and...|\n",
            "|The next day, she...|\n",
            "|“Everything in Lo...|\n",
            "|The two sites app...|\n",
            "|First priority ha...|\n",
            "|Divers fanned out...|\n",
            "|                    |\n",
            "|It’s a “last-ditc...|\n",
            "+--------------------+\n",
            "only showing top 20 rows\n",
            "\n"
          ]
        }
      ],
      "source": [
        "# Each line becomes a row in the DataFrame\n",
        "lines = spark.read.text(\"input.txt\")\n",
        "lines.show()"
      ]
    },
    {
      "cell_type": "markdown",
      "id": "3bdcfc25-a2d0-4556-a12d-75cc596c040d",
      "metadata": {
        "id": "3bdcfc25-a2d0-4556-a12d-75cc596c040d"
      },
      "source": [
        "#### 3. Split Lines into Words"
      ]
    },
    {
      "cell_type": "code",
      "execution_count": 21,
      "id": "665e6ee9-99eb-4805-a341-8d59c1ee5b8a",
      "metadata": {
        "colab": {
          "base_uri": "https://localhost:8080/"
        },
        "id": "665e6ee9-99eb-4805-a341-8d59c1ee5b8a",
        "outputId": "af517ac7-b782-4ad9-afe0-c3ce39c348f3"
      },
      "outputs": [
        {
          "output_type": "stream",
          "name": "stdout",
          "text": [
            "+-----------+\n",
            "|       word|\n",
            "+-----------+\n",
            "|          A|\n",
            "|  Desperate|\n",
            "|       Push|\n",
            "|         to|\n",
            "|       Save|\n",
            "|  Florida’s|\n",
            "|     Coral:|\n",
            "|        Get|\n",
            "|         It|\n",
            "|        Out|\n",
            "|         of|\n",
            "|        the|\n",
            "|        Sea|\n",
            "|  By Catrin|\n",
            "|    Einhorn|\n",
            "|Photographs|\n",
            "|   by Jason|\n",
            "|     Gulley|\n",
            "|       July|\n",
            "|        31,|\n",
            "+-----------+\n",
            "only showing top 20 rows\n",
            "\n"
          ]
        }
      ],
      "source": [
        "from pyspark.sql.functions import split, explode, col\n",
        "\n",
        "# Split lines into arrays of words, then explode into one word per row\n",
        "words = lines.select(explode(split(col(\"value\"), \" \")).alias(\"word\"))\n",
        "words.show()"
      ]
    },
    {
      "cell_type": "markdown",
      "id": "facb5fb9-e57c-4cb3-95b4-8ac2e0134245",
      "metadata": {
        "id": "facb5fb9-e57c-4cb3-95b4-8ac2e0134245"
      },
      "source": [
        "#### 4. Count Word Frequencies\n",
        "Fill in the column name"
      ]
    },
    {
      "cell_type": "code",
      "execution_count": 23,
      "id": "d33c4dc0-767c-4c64-9e8a-02dda36bcd99",
      "metadata": {
        "colab": {
          "base_uri": "https://localhost:8080/"
        },
        "id": "d33c4dc0-767c-4c64-9e8a-02dda36bcd99",
        "outputId": "548f3e24-ea61-42de-bb6e-ef274e616ff1"
      },
      "outputs": [
        {
          "output_type": "stream",
          "name": "stdout",
          "text": [
            "+--------------------+-----+\n",
            "|                word|count|\n",
            "+--------------------+-----+\n",
            "|                July|    2|\n",
            "|                 few|    2|\n",
            "|                some|    5|\n",
            "|            priority|    1|\n",
            "|               still|    2|\n",
            "|               those|    1|\n",
            "|percent, researchers|    1|\n",
            "|                  By|    1|\n",
            "|       temperatures,|    1|\n",
            "|               Cuba,|    1|\n",
            "|             Renewal|    1|\n",
            "|                now.|    1|\n",
            "|               coral|   23|\n",
            "|          approached|    1|\n",
            "|             jumping|    1|\n",
            "|              fanned|    1|\n",
            "|                  If|    1|\n",
            "|       International|    1|\n",
            "|               among|    1|\n",
            "|         cover since|    1|\n",
            "+--------------------+-----+\n",
            "only showing top 20 rows\n",
            "\n"
          ]
        }
      ],
      "source": [
        "word_counts = words.groupBy(\"word\").count()\n",
        "word_counts.show()"
      ]
    },
    {
      "cell_type": "markdown",
      "id": "f6040d78-192a-47b1-8736-fa885b9d2ce6",
      "metadata": {
        "id": "f6040d78-192a-47b1-8736-fa885b9d2ce6"
      },
      "source": [
        "#### 5. Filter Rare Words\n",
        "Fill in the condition in `filter()`"
      ]
    },
    {
      "cell_type": "code",
      "execution_count": 25,
      "id": "ae83ec34-9b09-438e-adba-0517f8a2d1bb",
      "metadata": {
        "colab": {
          "base_uri": "https://localhost:8080/"
        },
        "id": "ae83ec34-9b09-438e-adba-0517f8a2d1bb",
        "outputId": "04bc55f0-503a-4ea8-ddef-a8dec6a964cf"
      },
      "outputs": [
        {
          "output_type": "stream",
          "name": "stdout",
          "text": [
            "+-------+-----+\n",
            "|   word|count|\n",
            "+-------+-----+\n",
            "|   some|    5|\n",
            "|  coral|   23|\n",
            "|    But|    4|\n",
            "|    two|    4|\n",
            "|    sea|    3|\n",
            "|    who|    3|\n",
            "|    not|    6|\n",
            "|    Ms.|    6|\n",
            "|     by|    7|\n",
            "|   heat|    4|\n",
            "|elkhorn|    5|\n",
            "|    can|    5|\n",
            "|    was|    5|\n",
            "|  their|    3|\n",
            "|    for|   14|\n",
            "|    too|    3|\n",
            "|     in|   24|\n",
            "|   they|    9|\n",
            "| marine|    5|\n",
            "|   with|    3|\n",
            "+-------+-----+\n",
            "only showing top 20 rows\n",
            "\n"
          ]
        }
      ],
      "source": [
        "word_counts_filtered = word_counts.filter(word_counts[\"count\"] >= 3)\n",
        "word_counts_filtered.show()"
      ]
    },
    {
      "cell_type": "markdown",
      "id": "1a15fa57-a452-4f61-b333-65ad0cdce681",
      "metadata": {
        "id": "1a15fa57-a452-4f61-b333-65ad0cdce681"
      },
      "source": [
        "#### 6. Stop the Spark Session"
      ]
    },
    {
      "cell_type": "code",
      "execution_count": 26,
      "id": "48f280ef-676e-4da7-815d-6c8f1cc54ec8",
      "metadata": {
        "id": "48f280ef-676e-4da7-815d-6c8f1cc54ec8"
      },
      "outputs": [],
      "source": [
        "spark.stop()"
      ]
    }
  ],
  "metadata": {
    "kernelspec": {
      "display_name": "Python 3 (ipykernel)",
      "language": "python",
      "name": "python3"
    },
    "language_info": {
      "codemirror_mode": {
        "name": "ipython",
        "version": 3
      },
      "file_extension": ".py",
      "mimetype": "text/x-python",
      "name": "python",
      "nbconvert_exporter": "python",
      "pygments_lexer": "ipython3",
      "version": "3.8.8"
    },
    "colab": {
      "provenance": []
    }
  },
  "nbformat": 4,
  "nbformat_minor": 5
}