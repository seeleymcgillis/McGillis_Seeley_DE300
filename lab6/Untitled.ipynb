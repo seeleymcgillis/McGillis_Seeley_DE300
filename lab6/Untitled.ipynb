{
 "cells": [
  {
   "cell_type": "code",
   "execution_count": null,
   "id": "fed3bbe7-94d1-4776-b9b3-62b5bc2c4c15",
   "metadata": {},
   "outputs": [],
   "source": [
    "def map_phase(input_file):\n",
    "    \"\"\"Emits (word, 1) for each word with length >= 4 in the input file.\"\"\"\n",
    "    with open(input_file, 'r') as f:\n",
    "        for line in f:\n",
    "            words = line.strip().split()\n",
    "            for word in words:\n",
    "                clean_word = ''.join(filter(str.isalpha, word)).lower()  # Remove punctuation, lowercase\n",
    "                if len(clean_word) >= 4:\n",
    "                    yield (clean_word, 1)"
   ]
  },
  {
   "cell_type": "code",
   "execution_count": null,
   "id": "4b1161d6-8d4d-49cc-89c9-3c2dce13875e",
   "metadata": {},
   "outputs": [],
   "source": [
    "def reduce_phase(mapped_data):\n",
    "    \"\"\"Aggregates word counts from the map phase.\"\"\"\n",
    "    word_counts = defaultdict(int)\n",
    "    for word, count in mapped_data:\n",
    "        word_counts[word] += count\n",
    "    return word_counts"
   ]
  }
 ],
 "metadata": {
  "kernelspec": {
   "display_name": "Python 3 (ipykernel)",
   "language": "python",
   "name": "python3"
  },
  "language_info": {
   "codemirror_mode": {
    "name": "ipython",
    "version": 3
   },
   "file_extension": ".py",
   "mimetype": "text/x-python",
   "name": "python",
   "nbconvert_exporter": "python",
   "pygments_lexer": "ipython3",
   "version": "3.11.7"
  }
 },
 "nbformat": 4,
 "nbformat_minor": 5
}
