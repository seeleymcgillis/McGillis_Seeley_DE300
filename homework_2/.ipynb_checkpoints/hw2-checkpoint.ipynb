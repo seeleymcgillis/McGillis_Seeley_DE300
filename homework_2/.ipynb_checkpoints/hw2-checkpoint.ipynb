{
 "cells": [
  {
   "cell_type": "markdown",
   "id": "0350e8e4-c862-4d92-b00c-ed31dfbcb0b6",
   "metadata": {},
   "source": [
    "Seeley McGillis\n",
    "\n",
    "Homework 2: Two ways with MIMIC-III\n",
    "\n",
    "\n",
    "---"
   ]
  },
  {
   "cell_type": "markdown",
   "id": "5ae9b69e-be20-4755-a6ee-6efb282c4898",
   "metadata": {},
   "source": [
    "# Part 1: Relational"
   ]
  },
  {
   "cell_type": "code",
   "execution_count": 16,
   "id": "79e2a05f-8cac-4987-828e-812e82019c7a",
   "metadata": {},
   "outputs": [
    {
     "name": "stdout",
     "output_type": "stream",
     "text": [
      "Requirement already satisfied: duckdb==1.2.2 in /opt/anaconda3/lib/python3.11/site-packages (1.2.2)\n"
     ]
    }
   ],
   "source": [
    "!pip install duckdb==1.2.2\n",
    "import duckdb"
   ]
  },
  {
   "cell_type": "code",
   "execution_count": 18,
   "id": "72d93ef9-1049-4514-8ce2-72ec91ae2a5a",
   "metadata": {},
   "outputs": [
    {
     "data": {
      "text/plain": [
       "┌───────────────┐\n",
       "│     name      │\n",
       "│    varchar    │\n",
       "├───────────────┤\n",
       "│ ADMISSIONS    │\n",
       "│ DRGCODES      │\n",
       "│ DRUGS_ETHN    │\n",
       "│ D_ICDPROCS    │\n",
       "│ ICUSTAYS      │\n",
       "│ PATIENTS      │\n",
       "│ PRESCRIPTIONS │\n",
       "│ PROCS_ICD     │\n",
       "└───────────────┘"
      ]
     },
     "execution_count": 18,
     "metadata": {},
     "output_type": "execute_result"
    }
   ],
   "source": [
    "# establish connection\n",
    "conn = duckdb.connect('mimic.db', read_only=False)\n",
    "\n",
    "#conn.execute(\"\"\"\n",
    "#CREATE TABLE PRESCRIPTIONS AS\n",
    "#SELECT * FROM read_csv_auto('PRESCRIPTIONS.csv')\n",
    "#\"\"\")\n",
    "\n",
    "conn.sql('SHOW TABLES;')"
   ]
  },
  {
   "cell_type": "markdown",
   "id": "cdec1777-4e2a-45ee-aa7a-03c8e8a61c2a",
   "metadata": {},
   "source": [
    "-------------"
   ]
  },
  {
   "cell_type": "markdown",
   "id": "b8414512-5f53-4a89-9d3d-d340fbc29445",
   "metadata": {},
   "source": [
    "Create a summary of type of drugs and their total amount used by ethnicity. Report the top usage in each ethnicity group. You may have to make certain assumptions in calculating their total amount."
   ]
  },
  {
   "cell_type": "code",
   "execution_count": 22,
   "id": "c2cae8ee-25d7-4eab-83f8-ccc9e84436be",
   "metadata": {},
   "outputs": [
    {
     "data": {
      "text/plain": [
       "┌───────┬─────────────┬─────────┬─────────┬────────────┬─────────┐\n",
       "│  cid  │    name     │  type   │ notnull │ dflt_value │   pk    │\n",
       "│ int32 │   varchar   │ varchar │ boolean │  varchar   │ boolean │\n",
       "├───────┼─────────────┼─────────┼─────────┼────────────┼─────────┤\n",
       "│     0 │ row_id      │ INTEGER │ false   │ NULL       │ false   │\n",
       "│     1 │ subject_id  │ INTEGER │ false   │ NULL       │ false   │\n",
       "│     2 │ gender      │ VARCHAR │ false   │ NULL       │ false   │\n",
       "│     3 │ dob         │ VARCHAR │ false   │ NULL       │ false   │\n",
       "│     4 │ dod         │ VARCHAR │ false   │ NULL       │ false   │\n",
       "│     5 │ dod_hosp    │ VARCHAR │ false   │ NULL       │ false   │\n",
       "│     6 │ dod_ssn     │ VARCHAR │ false   │ NULL       │ false   │\n",
       "│     7 │ expire_flag │ INTEGER │ false   │ NULL       │ false   │\n",
       "└───────┴─────────────┴─────────┴─────────┴────────────┴─────────┘"
      ]
     },
     "execution_count": 22,
     "metadata": {},
     "output_type": "execute_result"
    }
   ],
   "source": [
    "conn.sql('PRAGMA table_info(PATIENTS);')"
   ]
  },
  {
   "cell_type": "code",
   "execution_count": 24,
   "id": "a54e8997-77a9-459d-abe7-4ef17483c8b8",
   "metadata": {},
   "outputs": [
    {
     "data": {
      "text/plain": [
       "┌───────┬──────────────────────┬─────────┬─────────┬────────────┬─────────┐\n",
       "│  cid  │         name         │  type   │ notnull │ dflt_value │   pk    │\n",
       "│ int32 │       varchar        │ varchar │ boolean │  varchar   │ boolean │\n",
       "├───────┼──────────────────────┼─────────┼─────────┼────────────┼─────────┤\n",
       "│     0 │ row_id               │ INTEGER │ false   │ NULL       │ false   │\n",
       "│     1 │ subject_id           │ INTEGER │ false   │ NULL       │ false   │\n",
       "│     2 │ hadm_id              │ INTEGER │ false   │ NULL       │ false   │\n",
       "│     3 │ admittime            │ VARCHAR │ false   │ NULL       │ false   │\n",
       "│     4 │ dischtime            │ VARCHAR │ false   │ NULL       │ false   │\n",
       "│     5 │ deathtime            │ VARCHAR │ false   │ NULL       │ false   │\n",
       "│     6 │ admission_type       │ VARCHAR │ false   │ NULL       │ false   │\n",
       "│     7 │ admission_location   │ VARCHAR │ false   │ NULL       │ false   │\n",
       "│     8 │ discharge_location   │ VARCHAR │ false   │ NULL       │ false   │\n",
       "│     9 │ insurance            │ VARCHAR │ false   │ NULL       │ false   │\n",
       "│    10 │ language             │ VARCHAR │ false   │ NULL       │ false   │\n",
       "│    11 │ religion             │ VARCHAR │ false   │ NULL       │ false   │\n",
       "│    12 │ marital_status       │ VARCHAR │ false   │ NULL       │ false   │\n",
       "│    13 │ ethnicity            │ VARCHAR │ false   │ NULL       │ false   │\n",
       "│    14 │ edregtime            │ VARCHAR │ false   │ NULL       │ false   │\n",
       "│    15 │ edouttime            │ VARCHAR │ false   │ NULL       │ false   │\n",
       "│    16 │ diagnosis            │ VARCHAR │ false   │ NULL       │ false   │\n",
       "│    17 │ hospital_expire_flag │ INTEGER │ false   │ NULL       │ false   │\n",
       "│    18 │ has_chartevents_data │ INTEGER │ false   │ NULL       │ false   │\n",
       "├───────┴──────────────────────┴─────────┴─────────┴────────────┴─────────┤\n",
       "│ 19 rows                                                       6 columns │\n",
       "└─────────────────────────────────────────────────────────────────────────┘"
      ]
     },
     "execution_count": 24,
     "metadata": {},
     "output_type": "execute_result"
    }
   ],
   "source": [
    "conn.sql('PRAGMA table_info(ADMISSIONS);')"
   ]
  },
  {
   "cell_type": "code",
   "execution_count": 26,
   "id": "9c5b47df-366c-4874-93fa-a2920ed387ab",
   "metadata": {},
   "outputs": [],
   "source": [
    "conn.sql(\n",
    "    \"\"\"\n",
    "    CREATE OR REPLACE TABLE DRUGS_ETHN AS\n",
    "    SELECT\n",
    "        ADMISSIONS.ETHNICITY,\n",
    "        PRESCRIPTIONS.DRUG,\n",
    "        COUNT(PRESCRIPTIONS.DRUG) AS TOTAL_DRUG\n",
    "    FROM ADMISSIONS\n",
    "    JOIN PRESCRIPTIONS ON ADMISSIONS.SUBJECT_ID = PRESCRIPTIONS.SUBJECT_ID\n",
    "    GROUP BY ADMISSIONS.ETHNICITY, PRESCRIPTIONS.DRUG;\n",
    "    \"\"\"\n",
    ")"
   ]
  },
  {
   "cell_type": "code",
   "execution_count": 28,
   "id": "dddac44a-594b-4881-b51f-cc5a8e47f526",
   "metadata": {},
   "outputs": [
    {
     "data": {
      "text/plain": [
       "┌──────────────────────────────────────────────────────────┬──────────────────────┬────────────┐\n",
       "│                        ethnicity                         │         drug         │ TOTAL_DRUG │\n",
       "│                         varchar                          │       varchar        │   int64    │\n",
       "├──────────────────────────────────────────────────────────┼──────────────────────┼────────────┤\n",
       "│ WHITE                                                    │ Senna                │         95 │\n",
       "│ WHITE                                                    │ Aspirin              │         50 │\n",
       "│ WHITE                                                    │ Tamsulosin           │          8 │\n",
       "│ WHITE                                                    │ Azithromycin         │         21 │\n",
       "│ WHITE                                                    │ Furosemide           │        388 │\n",
       "│ WHITE                                                    │ Atropine Sulfate     │          6 │\n",
       "│ WHITE                                                    │ D5W                  │        391 │\n",
       "│ WHITE                                                    │ CefePIME             │         27 │\n",
       "│ WHITE                                                    │ Creon 10             │          2 │\n",
       "│ WHITE                                                    │ Valsartan            │          5 │\n",
       "│   ·                                                      │     ·                │          · │\n",
       "│   ·                                                      │     ·                │          · │\n",
       "│   ·                                                      │     ·                │          · │\n",
       "│ WHITE                                                    │ Bupivacaine 0.75%    │          2 │\n",
       "│ UNKNOWN/NOT SPECIFIED                                    │ Clopidogrel          │          2 │\n",
       "│ AMERICAN INDIAN/ALASKA NATIVE FEDERALLY RECOGNIZED TRIBE │ Lorazepam            │          6 │\n",
       "│ AMERICAN INDIAN/ALASKA NATIVE FEDERALLY RECOGNIZED TRIBE │ Acetaminophen        │         10 │\n",
       "│ AMERICAN INDIAN/ALASKA NATIVE FEDERALLY RECOGNIZED TRIBE │ Syringe              │          6 │\n",
       "│ AMERICAN INDIAN/ALASKA NATIVE FEDERALLY RECOGNIZED TRIBE │ Iso-Osmotic Dextrose │         16 │\n",
       "│ AMERICAN INDIAN/ALASKA NATIVE FEDERALLY RECOGNIZED TRIBE │ Vancomycin           │          8 │\n",
       "│ AMERICAN INDIAN/ALASKA NATIVE FEDERALLY RECOGNIZED TRIBE │ traZODONE            │          4 │\n",
       "│ AMERICAN INDIAN/ALASKA NATIVE FEDERALLY RECOGNIZED TRIBE │ Propofol             │         12 │\n",
       "│ AMERICAN INDIAN/ALASKA NATIVE FEDERALLY RECOGNIZED TRIBE │ Meropenem            │          2 │\n",
       "├──────────────────────────────────────────────────────────┴──────────────────────┴────────────┤\n",
       "│ 1260 rows (20 shown)                                                               3 columns │\n",
       "└──────────────────────────────────────────────────────────────────────────────────────────────┘"
      ]
     },
     "execution_count": 28,
     "metadata": {},
     "output_type": "execute_result"
    }
   ],
   "source": [
    "conn.sql(\n",
    "    \"\"\"\n",
    "    SELECT * FROM DRUGS_ETHN;\n",
    "    \"\"\"\n",
    ")"
   ]
  },
  {
   "cell_type": "code",
   "execution_count": 30,
   "id": "f639d2a7-617b-4170-b3c5-a5df0fd62152",
   "metadata": {},
   "outputs": [
    {
     "data": {
      "text/plain": [
       "┌──────────────────────────────────────────────────────────┬──────────────────────┬────────────┐\n",
       "│                        ethnicity                         │         drug         │ TOTAL_DRUG │\n",
       "│                         varchar                          │       varchar        │   int64    │\n",
       "├──────────────────────────────────────────────────────────┼──────────────────────┼────────────┤\n",
       "│ AMERICAN INDIAN/ALASKA NATIVE FEDERALLY RECOGNIZED TRIBE │ 5% Dextrose          │         54 │\n",
       "│ ASIAN                                                    │ D5W                  │         27 │\n",
       "│ BLACK/AFRICAN AMERICAN                                   │ Insulin              │         60 │\n",
       "│ HISPANIC OR LATINO                                       │ 5% Dextrose          │         28 │\n",
       "│ HISPANIC/LATINO - PUERTO RICAN                           │ 0.9% Sodium Chloride │       1290 │\n",
       "│ OTHER                                                    │ NS                   │         11 │\n",
       "│ UNABLE TO OBTAIN                                         │ 0.9% Sodium Chloride │         28 │\n",
       "│ UNKNOWN/NOT SPECIFIED                                    │ D5W                  │         41 │\n",
       "│ WHITE                                                    │ Potassium Chloride   │        508 │\n",
       "└──────────────────────────────────────────────────────────┴──────────────────────┴────────────┘"
      ]
     },
     "execution_count": 30,
     "metadata": {},
     "output_type": "execute_result"
    }
   ],
   "source": [
    "conn.sql(\n",
    "    \"\"\"\n",
    "    SELECT ETHNICITY, DRUG, TOTAL_DRUG\n",
    "    FROM DRUGS_ETHN\n",
    "    WHERE (ETHNICITY, TOTAL_DRUG) IN (SELECT ETHNICITY, MAX(TOTAL_DRUG) FROM DRUGS_ETHN GROUP BY ETHNICITY)\n",
    "    ORDER BY ETHNICITY\n",
    "    \"\"\"\n",
    ")"
   ]
  },
  {
   "cell_type": "markdown",
   "id": "3a7f32ed-a46e-4f8b-8980-788ce54a920e",
   "metadata": {},
   "source": [
    "-----"
   ]
  },
  {
   "cell_type": "markdown",
   "id": "8907d6b3-fe1b-4da4-97d1-e44cc9bd0188",
   "metadata": {},
   "source": [
    "Create a summary of procedures performed on patients by age groups (<=19, 20-49, 50-79, >80). Report the top three procedures, along with the name of the procedures, performed in each age group."
   ]
  },
  {
   "cell_type": "code",
   "execution_count": 34,
   "id": "29650894-ae1b-4303-9245-cd2b4738e284",
   "metadata": {},
   "outputs": [
    {
     "data": {
      "text/plain": [
       "┌───────┬────────────┬─────────┬─────────┬────────────┬─────────┐\n",
       "│  cid  │    name    │  type   │ notnull │ dflt_value │   pk    │\n",
       "│ int32 │  varchar   │ varchar │ boolean │  varchar   │ boolean │\n",
       "├───────┼────────────┼─────────┼─────────┼────────────┼─────────┤\n",
       "│     0 │ row_id     │ INTEGER │ false   │ NULL       │ false   │\n",
       "│     1 │ subject_id │ INTEGER │ false   │ NULL       │ false   │\n",
       "│     2 │ hadm_id    │ INTEGER │ false   │ NULL       │ false   │\n",
       "│     3 │ seq_num    │ INTEGER │ false   │ NULL       │ false   │\n",
       "│     4 │ icd9_code  │ INTEGER │ false   │ NULL       │ false   │\n",
       "└───────┴────────────┴─────────┴─────────┴────────────┴─────────┘"
      ]
     },
     "execution_count": 34,
     "metadata": {},
     "output_type": "execute_result"
    }
   ],
   "source": [
    "conn.sql('PRAGMA table_info(PROCS_ICD);')"
   ]
  },
  {
   "cell_type": "code",
   "execution_count": 36,
   "id": "dc211b78-6647-4320-9d78-ac6aa3a1875d",
   "metadata": {},
   "outputs": [
    {
     "data": {
      "text/plain": [
       "┌───────┬─────────────┬─────────┬─────────┬────────────┬─────────┐\n",
       "│  cid  │    name     │  type   │ notnull │ dflt_value │   pk    │\n",
       "│ int32 │   varchar   │ varchar │ boolean │  varchar   │ boolean │\n",
       "├───────┼─────────────┼─────────┼─────────┼────────────┼─────────┤\n",
       "│     0 │ row_id      │ INTEGER │ false   │ NULL       │ false   │\n",
       "│     1 │ icd9_code   │ INTEGER │ false   │ NULL       │ false   │\n",
       "│     2 │ short_title │ VARCHAR │ false   │ NULL       │ false   │\n",
       "│     3 │ long_title  │ VARCHAR │ false   │ NULL       │ false   │\n",
       "└───────┴─────────────┴─────────┴─────────┴────────────┴─────────┘"
      ]
     },
     "execution_count": 36,
     "metadata": {},
     "output_type": "execute_result"
    }
   ],
   "source": [
    "conn.sql('PRAGMA table_info(D_ICDPROCS);')"
   ]
  },
  {
   "cell_type": "code",
   "execution_count": 38,
   "id": "83357c5b-cee8-4ea1-8ba9-e638434f49da",
   "metadata": {},
   "outputs": [
    {
     "data": {
      "text/plain": [
       "┌─────────────────────┐\n",
       "│         dob         │\n",
       "│       varchar       │\n",
       "├─────────────────────┤\n",
       "│ 2094-03-05 00:00:00 │\n",
       "│ 2090-06-05 00:00:00 │\n",
       "│ 2038-09-03 00:00:00 │\n",
       "│ 2075-09-21 00:00:00 │\n",
       "│ 2114-06-20 00:00:00 │\n",
       "│ 1895-05-17 00:00:00 │\n",
       "│ 2108-01-15 00:00:00 │\n",
       "│ 2061-04-10 00:00:00 │\n",
       "│ 2050-03-29 00:00:00 │\n",
       "│ 2051-04-21 00:00:00 │\n",
       "│          ·          │\n",
       "│          ·          │\n",
       "│          ·          │\n",
       "│ 2097-05-16 00:00:00 │\n",
       "│ 2051-07-25 00:00:00 │\n",
       "│ 2051-03-24 00:00:00 │\n",
       "│ 2073-11-22 00:00:00 │\n",
       "│ 2104-02-12 00:00:00 │\n",
       "│ 2057-11-15 00:00:00 │\n",
       "│ 1878-05-14 00:00:00 │\n",
       "│ 2078-06-16 00:00:00 │\n",
       "│ 2107-06-27 00:00:00 │\n",
       "│ 2112-10-22 00:00:00 │\n",
       "├─────────────────────┤\n",
       "│ 100 rows (20 shown) │\n",
       "└─────────────────────┘"
      ]
     },
     "execution_count": 38,
     "metadata": {},
     "output_type": "execute_result"
    }
   ],
   "source": [
    "conn.sql(\n",
    "    \"\"\"\n",
    "    SELECT DOB FROM PATIENTS\n",
    "    \"\"\"\n",
    ")"
   ]
  },
  {
   "cell_type": "code",
   "execution_count": 40,
   "id": "e2996382-7aac-49e1-aac7-369051172fc3",
   "metadata": {},
   "outputs": [],
   "source": [
    "conn.sql(\n",
    "    \"\"\"\n",
    "    CREATE OR REPLACE TABLE PROC_AGE AS\n",
    "    SELECT\n",
    "        CASE\n",
    "            WHEN CAST(STRFTIME('%Y', CAST(ADMISSIONS.ADMITTIME AS DATE)) AS INT) - CAST(STRFTIME('%Y', CAST(PATIENTS.DOB AS DATE)) AS INT) <= 19 THEN '<=19'\n",
    "            WHEN CAST(STRFTIME('%Y', CAST(ADMISSIONS.ADMITTIME AS DATE)) AS INT) - CAST(STRFTIME('%Y', CAST(PATIENTS.DOB AS DATE)) AS INT) BETWEEN 20 AND 49 THEN '20-49'\n",
    "            WHEN CAST(STRFTIME('%Y', CAST(ADMISSIONS.ADMITTIME AS DATE)) AS INT) - CAST(STRFTIME('%Y', CAST(PATIENTS.DOB AS DATE)) AS INT) BETWEEN 50 AND 79 THEN '50-79'\n",
    "            ELSE '>80'\n",
    "        END AS AGE_GROUP,\n",
    "        PROCS_ICD.ICD9_CODE,\n",
    "        COUNT(PROCS_ICD.ICD9_CODE) AS TOTAL_PROC\n",
    "    FROM ADMISSIONS\n",
    "    JOIN PATIENTS ON ADMISSIONS.SUBJECT_ID = PATIENTS.SUBJECT_ID\n",
    "    JOIN PROCS_ICD ON ADMISSIONS.HADM_ID = PROCS_ICD.HADM_ID\n",
    "    GROUP BY AGE_GROUP, PROCS_ICD.ICD9_CODE;\n",
    "    \"\"\"\n",
    ")"
   ]
  },
  {
   "cell_type": "code",
   "execution_count": 42,
   "id": "509418ab-bcdc-4727-8691-8906627d0147",
   "metadata": {},
   "outputs": [
    {
     "data": {
      "text/plain": [
       "┌───────────┬───────────┬────────────┐\n",
       "│ AGE_GROUP │ icd9_code │ TOTAL_PROC │\n",
       "│  varchar  │   int32   │   int64    │\n",
       "├───────────┼───────────┼────────────┤\n",
       "│ 50-79     │      8345 │          1 │\n",
       "│ 50-79     │      9915 │          8 │\n",
       "│ >80       │      3772 │          2 │\n",
       "│ >80       │      9962 │          3 │\n",
       "│ 50-79     │      9929 │          1 │\n",
       "│ <=19      │      7935 │          1 │\n",
       "│ <=19      │      7905 │          1 │\n",
       "│ <=19      │      3893 │          2 │\n",
       "│ 20-49     │      3404 │          2 │\n",
       "│ 20-49     │      3712 │          1 │\n",
       "│   ·       │        ·  │          · │\n",
       "│   ·       │        ·  │          · │\n",
       "│   ·       │        ·  │          · │\n",
       "│ 20-49     │      3891 │          1 │\n",
       "│ 20-49     │      5187 │          1 │\n",
       "│ 20-49     │      3990 │          1 │\n",
       "│ 20-49     │      9671 │          4 │\n",
       "│ >80       │      3324 │          2 │\n",
       "│ 50-79     │      5110 │          1 │\n",
       "│ 20-49     │      3895 │          2 │\n",
       "│ 50-79     │      9390 │          1 │\n",
       "│ 50-79     │       311 │          2 │\n",
       "│ >80       │      3142 │          1 │\n",
       "├───────────┴───────────┴────────────┤\n",
       "│ 229 rows (20 shown)      3 columns │\n",
       "└────────────────────────────────────┘"
      ]
     },
     "execution_count": 42,
     "metadata": {},
     "output_type": "execute_result"
    }
   ],
   "source": [
    "#Display table\n",
    "conn.sql(\n",
    "    \"\"\"\n",
    "    SELECT * FROM PROC_AGE;\n",
    "    \"\"\"\n",
    ")"
   ]
  },
  {
   "cell_type": "code",
   "execution_count": 44,
   "id": "9c183126-a2e6-4a6a-9566-29227fefcf05",
   "metadata": {},
   "outputs": [],
   "source": [
    "#Report the top three procedures performed in <=19 age group\n",
    "conn.sql(\n",
    "    \"\"\"\n",
    "    CREATE OR REPLACE TABLE PROC_AGE_1 AS\n",
    "    SELECT AGE_GROUP, D_ICDPROCS.SHORT_TITLE, TOTAL_PROC\n",
    "    FROM PROC_AGE\n",
    "    JOIN D_ICDPROCS ON PROC_AGE.ICD9_CODE = D_ICDPROCS.ICD9_CODE\n",
    "    WHERE AGE_GROUP = '<=19'\n",
    "    ORDER BY TOTAL_PROC DESC\n",
    "    LIMIT 3\n",
    "    \"\"\"\n",
    ")"
   ]
  },
  {
   "cell_type": "code",
   "execution_count": 46,
   "id": "ddeda3f5-cb43-4d3c-8225-6ff1bd3d3590",
   "metadata": {},
   "outputs": [
    {
     "data": {
      "text/plain": [
       "┌───────────┬─────────────────────────┬────────────┐\n",
       "│ AGE_GROUP │       short_title       │ TOTAL_PROC │\n",
       "│  varchar  │         varchar         │   int64    │\n",
       "├───────────┼─────────────────────────┼────────────┤\n",
       "│ <=19      │ Venous cath NEC         │          2 │\n",
       "│ <=19      │ Closed bronchial biopsy │          1 │\n",
       "│ <=19      │ Vertebral fx repair     │          1 │\n",
       "└───────────┴─────────────────────────┴────────────┘"
      ]
     },
     "execution_count": 46,
     "metadata": {},
     "output_type": "execute_result"
    }
   ],
   "source": [
    "#Display table\n",
    "conn.sql(\n",
    "    \"\"\"\n",
    "    SELECT * FROM PROC_AGE_1;\n",
    "    \"\"\"\n",
    ")"
   ]
  },
  {
   "cell_type": "code",
   "execution_count": 48,
   "id": "aa8085ef-2f40-47fd-8f90-1d05abbf1a5e",
   "metadata": {},
   "outputs": [],
   "source": [
    "#Report the top three procedures performed in 20-49 age group\n",
    "conn.sql(\n",
    "    \"\"\"\n",
    "    CREATE OR REPLACE TABLE PROC_AGE_2 AS\n",
    "    SELECT AGE_GROUP, D_ICDPROCS.SHORT_TITLE, TOTAL_PROC\n",
    "    FROM PROC_AGE\n",
    "    JOIN D_ICDPROCS ON PROC_AGE.ICD9_CODE = D_ICDPROCS.ICD9_CODE\n",
    "    WHERE AGE_GROUP = '20-49'\n",
    "    ORDER BY TOTAL_PROC DESC\n",
    "    LIMIT 3\n",
    "    \"\"\"\n",
    ")"
   ]
  },
  {
   "cell_type": "code",
   "execution_count": 50,
   "id": "9d404589-7153-4935-87c3-fc8c7e78b1a7",
   "metadata": {},
   "outputs": [
    {
     "data": {
      "text/plain": [
       "┌───────────┬──────────────────────────┬────────────┐\n",
       "│ AGE_GROUP │       short_title        │ TOTAL_PROC │\n",
       "│  varchar  │         varchar          │   int64    │\n",
       "├───────────┼──────────────────────────┼────────────┤\n",
       "│ 20-49     │ Venous cath NEC          │          9 │\n",
       "│ 20-49     │ Entral infus nutrit sub  │          7 │\n",
       "│ 20-49     │ Insert endotracheal tube │          6 │\n",
       "└───────────┴──────────────────────────┴────────────┘"
      ]
     },
     "execution_count": 50,
     "metadata": {},
     "output_type": "execute_result"
    }
   ],
   "source": [
    "#Display table\n",
    "conn.sql(\n",
    "    \"\"\"\n",
    "    SELECT * FROM PROC_AGE_2;\n",
    "    \"\"\"\n",
    ")"
   ]
  },
  {
   "cell_type": "code",
   "execution_count": 52,
   "id": "df535e02-7069-4dca-a0b3-9e46b6b81a9e",
   "metadata": {},
   "outputs": [],
   "source": [
    "#Report the top three procedures performed in 50-79 age group\n",
    "conn.sql(\n",
    "    \"\"\"\n",
    "    CREATE OR REPLACE TABLE PROC_AGE_3 AS\n",
    "    SELECT AGE_GROUP, D_ICDPROCS.SHORT_TITLE, TOTAL_PROC\n",
    "    FROM PROC_AGE\n",
    "    JOIN D_ICDPROCS ON PROC_AGE.ICD9_CODE = D_ICDPROCS.ICD9_CODE\n",
    "    WHERE AGE_GROUP = '50-79'\n",
    "    ORDER BY TOTAL_PROC DESC\n",
    "    LIMIT 3\n",
    "    \"\"\"\n",
    ")"
   ]
  },
  {
   "cell_type": "code",
   "execution_count": 54,
   "id": "0fbb9ef7-fe82-4f99-b0e6-a2bdd980f3be",
   "metadata": {},
   "outputs": [
    {
     "data": {
      "text/plain": [
       "┌───────────┬─────────────────────────┬────────────┐\n",
       "│ AGE_GROUP │       short_title       │ TOTAL_PROC │\n",
       "│  varchar  │         varchar         │   int64    │\n",
       "├───────────┼─────────────────────────┼────────────┤\n",
       "│ 50-79     │ Venous cath NEC         │         25 │\n",
       "│ 50-79     │ Entral infus nutrit sub │         22 │\n",
       "│ 50-79     │ Packed cell transfusion │         13 │\n",
       "└───────────┴─────────────────────────┴────────────┘"
      ]
     },
     "execution_count": 54,
     "metadata": {},
     "output_type": "execute_result"
    }
   ],
   "source": [
    "#Display table\n",
    "conn.sql(\n",
    "    \"\"\"\n",
    "    SELECT * FROM PROC_AGE_3;\n",
    "    \"\"\"\n",
    ")"
   ]
  },
  {
   "cell_type": "code",
   "execution_count": 56,
   "id": "36ecee5b-d455-4739-971e-b0cfe348d9aa",
   "metadata": {},
   "outputs": [],
   "source": [
    "#Report the top three procedures performed in >80 age group\n",
    "conn.sql(\n",
    "    \"\"\"\n",
    "    CREATE OR REPLACE TABLE PROC_AGE_4 AS\n",
    "    SELECT AGE_GROUP, D_ICDPROCS.SHORT_TITLE, TOTAL_PROC\n",
    "    FROM PROC_AGE\n",
    "    JOIN D_ICDPROCS ON PROC_AGE.ICD9_CODE = D_ICDPROCS.ICD9_CODE\n",
    "    WHERE AGE_GROUP = '>80'\n",
    "    ORDER BY TOTAL_PROC DESC\n",
    "    LIMIT 3\n",
    "    \"\"\"\n",
    ")"
   ]
  },
  {
   "cell_type": "code",
   "execution_count": 58,
   "id": "2e63a129-0f84-4fa3-bfd0-56935f2abfc0",
   "metadata": {},
   "outputs": [
    {
     "data": {
      "text/plain": [
       "┌───────────┬──────────────────────────┬────────────┐\n",
       "│ AGE_GROUP │       short_title        │ TOTAL_PROC │\n",
       "│  varchar  │         varchar          │   int64    │\n",
       "├───────────┼──────────────────────────┼────────────┤\n",
       "│ >80       │ Venous cath NEC          │         20 │\n",
       "│ >80       │ Packed cell transfusion  │         13 │\n",
       "│ >80       │ Insert endotracheal tube │          8 │\n",
       "└───────────┴──────────────────────────┴────────────┘"
      ]
     },
     "execution_count": 58,
     "metadata": {},
     "output_type": "execute_result"
    }
   ],
   "source": [
    "#Display table\n",
    "conn.sql(\n",
    "    \"\"\"\n",
    "    SELECT * FROM PROC_AGE_4;\n",
    "    \"\"\"\n",
    ")"
   ]
  },
  {
   "cell_type": "markdown",
   "id": "842ae53b-f036-4b66-aafd-1ab54a2c1327",
   "metadata": {},
   "source": [
    "-----"
   ]
  },
  {
   "cell_type": "markdown",
   "id": "98b1ba6f-c330-4a60-97be-4c0be46d3d95",
   "metadata": {},
   "source": [
    "How long do patients stay in the ICU? Is there a difference in the ICU length of stay among gender or ethnicity?"
   ]
  },
  {
   "cell_type": "code",
   "execution_count": 62,
   "id": "38001c3e-c196-4a8e-bc01-7739c2e2f5e1",
   "metadata": {},
   "outputs": [
    {
     "data": {
      "text/plain": [
       "┌───────┬────────────────┬─────────┬─────────┬────────────┬─────────┐\n",
       "│  cid  │      name      │  type   │ notnull │ dflt_value │   pk    │\n",
       "│ int32 │    varchar     │ varchar │ boolean │  varchar   │ boolean │\n",
       "├───────┼────────────────┼─────────┼─────────┼────────────┼─────────┤\n",
       "│     0 │ row_id         │ INTEGER │ false   │ NULL       │ false   │\n",
       "│     1 │ subject_id     │ INTEGER │ false   │ NULL       │ false   │\n",
       "│     2 │ hadm_id        │ INTEGER │ false   │ NULL       │ false   │\n",
       "│     3 │ icustay_id     │ INTEGER │ false   │ NULL       │ false   │\n",
       "│     4 │ dbsource       │ VARCHAR │ false   │ NULL       │ false   │\n",
       "│     5 │ first_careunit │ VARCHAR │ false   │ NULL       │ false   │\n",
       "│     6 │ last_careunit  │ VARCHAR │ false   │ NULL       │ false   │\n",
       "│     7 │ first_wardid   │ INTEGER │ false   │ NULL       │ false   │\n",
       "│     8 │ last_wardid    │ INTEGER │ false   │ NULL       │ false   │\n",
       "│     9 │ intime         │ VARCHAR │ false   │ NULL       │ false   │\n",
       "│    10 │ outtime        │ VARCHAR │ false   │ NULL       │ false   │\n",
       "│    11 │ los            │ FLOAT   │ false   │ NULL       │ false   │\n",
       "├───────┴────────────────┴─────────┴─────────┴────────────┴─────────┤\n",
       "│ 12 rows                                                 6 columns │\n",
       "└───────────────────────────────────────────────────────────────────┘"
      ]
     },
     "execution_count": 62,
     "metadata": {},
     "output_type": "execute_result"
    }
   ],
   "source": [
    "conn.sql('PRAGMA table_info(ICUSTAYS);')"
   ]
  },
  {
   "cell_type": "code",
   "execution_count": 64,
   "id": "f29e6ae6-7d5a-48e1-8d7e-eddb2df7a2bb",
   "metadata": {},
   "outputs": [
    {
     "data": {
      "text/plain": [
       "┌───────────────────┐\n",
       "│      AVG_LOS      │\n",
       "│      double       │\n",
       "├───────────────────┤\n",
       "│ 4.452456642106614 │\n",
       "└───────────────────┘"
      ]
     },
     "execution_count": 64,
     "metadata": {},
     "output_type": "execute_result"
    }
   ],
   "source": [
    "conn.sql(\n",
    "    \"\"\"\n",
    "    SELECT AVG(ICUSTAYS.LOS) AS AVG_LOS\n",
    "    FROM ICUSTAYS;\n",
    "    \"\"\"\n",
    ")"
   ]
  },
  {
   "cell_type": "code",
   "execution_count": 66,
   "id": "97b6342b-b28c-4b3e-9bc1-31575f41825e",
   "metadata": {},
   "outputs": [],
   "source": [
    "conn.sql(\n",
    "    \"\"\"\n",
    "    CREATE OR REPLACE TABLE ICU_GENDER AS\n",
    "    SELECT PATIENTS.GENDER, AVG(ICUSTAYS.LOS) AS AVG_LOS\n",
    "    FROM ICUSTAYS\n",
    "    JOIN PATIENTS ON ICUSTAYS.SUBJECT_ID = PATIENTS.SUBJECT_ID\n",
    "    GROUP BY PATIENTS.GENDER;\n",
    "    \"\"\"\n",
    ")"
   ]
  },
  {
   "cell_type": "code",
   "execution_count": 68,
   "id": "20f55dd9-2669-4440-8a84-0b06c3ae1720",
   "metadata": {},
   "outputs": [
    {
     "data": {
      "text/plain": [
       "┌─────────┬────────────────────┐\n",
       "│ gender  │      AVG_LOS       │\n",
       "│ varchar │       double       │\n",
       "├─────────┼────────────────────┤\n",
       "│ F       │  5.540071457151383 │\n",
       "│ M       │ 3.5138301578898954 │\n",
       "└─────────┴────────────────────┘"
      ]
     },
     "execution_count": 68,
     "metadata": {},
     "output_type": "execute_result"
    }
   ],
   "source": [
    "#Display table\n",
    "conn.sql(\n",
    "    \"\"\"\n",
    "    SELECT * FROM ICU_GENDER;\n",
    "    \"\"\"\n",
    ")"
   ]
  },
  {
   "cell_type": "code",
   "execution_count": 70,
   "id": "272d28fc-6c23-458b-836c-8722a86a6687",
   "metadata": {},
   "outputs": [],
   "source": [
    "conn.sql(\n",
    "    \"\"\"\n",
    "    CREATE OR REPLACE TABLE ICU_ETHN AS\n",
    "    SELECT ADMISSIONS.ETHNICITY, AVG(ICUSTAYS.LOS) AS AVG_LOS\n",
    "    FROM ICUSTAYS\n",
    "    JOIN ADMISSIONS ON ICUSTAYS.SUBJECT_ID = ADMISSIONS.SUBJECT_ID\n",
    "    GROUP BY ADMISSIONS.ETHNICITY;\n",
    "    \"\"\"\n",
    ")"
   ]
  },
  {
   "cell_type": "code",
   "execution_count": 180,
   "id": "d4552f57-a161-4abd-8166-58c05c722219",
   "metadata": {},
   "outputs": [
    {
     "data": {
      "text/plain": [
       "┌──────────────────────────────────────────────────────────┬────────────────────┐\n",
       "│                        ethnicity                         │      AVG_LOS       │\n",
       "│                         varchar                          │       double       │\n",
       "├──────────────────────────────────────────────────────────┼────────────────────┤\n",
       "│ OTHER                                                    │ 0.9260666593909264 │\n",
       "│ WHITE                                                    │  4.123054919062091 │\n",
       "│ UNKNOWN/NOT SPECIFIED                                    │  4.510661611190209 │\n",
       "│ ASIAN                                                    │  3.890050023794174 │\n",
       "│ BLACK/AFRICAN AMERICAN                                   │  6.867700040340424 │\n",
       "│ HISPANIC OR LATINO                                       │  7.459633429845174 │\n",
       "│ UNABLE TO OBTAIN                                         │ 13.357000350952148 │\n",
       "│ AMERICAN INDIAN/ALASKA NATIVE FEDERALLY RECOGNIZED TRIBE │  11.33715045452118 │\n",
       "│ HISPANIC/LATINO - PUERTO RICAN                           │  3.243066656589508 │\n",
       "└──────────────────────────────────────────────────────────┴────────────────────┘"
      ]
     },
     "execution_count": 180,
     "metadata": {},
     "output_type": "execute_result"
    }
   ],
   "source": [
    "#Display table\n",
    "conn.sql(\n",
    "    \"\"\"\n",
    "    SELECT * FROM ICU_ETHN;\n",
    "    \"\"\"\n",
    ")"
   ]
  },
  {
   "cell_type": "markdown",
   "id": "f061c709-ae5d-453c-8ee1-d06c000b2653",
   "metadata": {},
   "source": [
    "------------------"
   ]
  },
  {
   "cell_type": "markdown",
   "id": "3c3932be-0b43-46ba-85e6-fb4460960a0b",
   "metadata": {},
   "source": [
    "# Part 2: Non Relational"
   ]
  },
  {
   "cell_type": "markdown",
   "id": "3a4699f3-f30d-4b00-834f-b61b509c278c",
   "metadata": {},
   "source": [
    "Setup:"
   ]
  },
  {
   "cell_type": "code",
   "execution_count": 77,
   "id": "852e33c2-4f33-4348-b7ae-2e673a611a78",
   "metadata": {},
   "outputs": [
    {
     "name": "stdout",
     "output_type": "stream",
     "text": [
      "  % Total    % Received % Xferd  Average Speed   Time    Time     Time  Current\n",
      "                                 Dload  Upload   Total   Spent    Left  Speed\n",
      "100  1468  100  1468    0     0   3224      0 --:--:-- --:--:-- --:--:--  3219\n"
     ]
    }
   ],
   "source": [
    "!curl https://certs.secureserver.net/repository/sf-class2-root.crt -O"
   ]
  },
  {
   "cell_type": "code",
   "execution_count": 79,
   "id": "1f912bb1-8d6e-4efa-9b0e-5e7078b3b7f0",
   "metadata": {},
   "outputs": [
    {
     "name": "stdout",
     "output_type": "stream",
     "text": [
      "Requirement already satisfied: cassandra-sigv4 in /opt/anaconda3/lib/python3.11/site-packages (4.0.2)\n",
      "Requirement already satisfied: cassandra-driver in /opt/anaconda3/lib/python3.11/site-packages (from cassandra-sigv4) (3.29.2)\n",
      "Requirement already satisfied: boto3 in /opt/anaconda3/lib/python3.11/site-packages (from cassandra-sigv4) (1.38.5)\n",
      "Requirement already satisfied: six in /opt/anaconda3/lib/python3.11/site-packages (from cassandra-sigv4) (1.16.0)\n",
      "Requirement already satisfied: botocore<1.39.0,>=1.38.5 in /opt/anaconda3/lib/python3.11/site-packages (from boto3->cassandra-sigv4) (1.38.5)\n",
      "Requirement already satisfied: jmespath<2.0.0,>=0.7.1 in /opt/anaconda3/lib/python3.11/site-packages (from boto3->cassandra-sigv4) (1.0.1)\n",
      "Requirement already satisfied: s3transfer<0.13.0,>=0.12.0 in /opt/anaconda3/lib/python3.11/site-packages (from boto3->cassandra-sigv4) (0.12.0)\n",
      "Requirement already satisfied: geomet<0.3,>=0.1 in /opt/anaconda3/lib/python3.11/site-packages (from cassandra-driver->cassandra-sigv4) (0.2.1.post1)\n",
      "Requirement already satisfied: python-dateutil<3.0.0,>=2.1 in /opt/anaconda3/lib/python3.11/site-packages (from botocore<1.39.0,>=1.38.5->boto3->cassandra-sigv4) (2.8.2)\n",
      "Requirement already satisfied: urllib3!=2.2.0,<3,>=1.25.4 in /opt/anaconda3/lib/python3.11/site-packages (from botocore<1.39.0,>=1.38.5->boto3->cassandra-sigv4) (2.0.7)\n",
      "Requirement already satisfied: click in /opt/anaconda3/lib/python3.11/site-packages (from geomet<0.3,>=0.1->cassandra-driver->cassandra-sigv4) (8.1.7)\n",
      "Note: you may need to restart the kernel to use updated packages.\n"
     ]
    }
   ],
   "source": [
    "%pip install cassandra-sigv4"
   ]
  },
  {
   "cell_type": "code",
   "execution_count": 81,
   "id": "978e54d4-1206-4055-aa91-c7266fe6df29",
   "metadata": {},
   "outputs": [
    {
     "name": "stderr",
     "output_type": "stream",
     "text": [
      "/var/folders/wd/g730h79n6g90zsm1jp44dyv00000gn/T/ipykernel_89890/332746716.py:7: DeprecationWarning: ssl.PROTOCOL_TLSv1_2 is deprecated\n",
      "  ssl_context = SSLContext(PROTOCOL_TLSv1_2)\n"
     ]
    }
   ],
   "source": [
    "from cassandra.cluster import Cluster\n",
    "from ssl import SSLContext, PROTOCOL_TLSv1_2, CERT_REQUIRED\n",
    "from cassandra_sigv4.auth import SigV4AuthProvider\n",
    "import boto3\n",
    "\n",
    "# ssl setup\n",
    "ssl_context = SSLContext(PROTOCOL_TLSv1_2)\n",
    "ssl_context.load_verify_locations('sf-class2-root.crt')  # change your file path for locating the certificate\n",
    "ssl_context.verify_mode = CERT_REQUIRED\n",
    "\n",
    "# boto3 session setup\n",
    "boto_session = boto3.Session(region_name=\"us-east-2\")  # this AWS credentials is specific to `us-east-2` region"
   ]
  },
  {
   "cell_type": "code",
   "execution_count": 82,
   "id": "31e83c09-7968-47f0-ace3-860c4effbdd6",
   "metadata": {},
   "outputs": [],
   "source": [
    "# authorization setup with SigV4\n",
    "auth_provider = SigV4AuthProvider(boto_session)"
   ]
  },
  {
   "cell_type": "code",
   "execution_count": 83,
   "id": "6b64c322-f4fc-466f-b066-eecd86b0f941",
   "metadata": {},
   "outputs": [],
   "source": [
    "#cluster setup \n",
    "cluster = Cluster(['cassandra.us-east-2.amazonaws.com'], \n",
    "                  ssl_context=ssl_context, \n",
    "                  auth_provider=auth_provider, \n",
    "                  port=9142)  # TLS only communicates on port 9142"
   ]
  },
  {
   "cell_type": "code",
   "execution_count": 84,
   "id": "7fd255ec-97d7-4961-b67c-52da3479a6a6",
   "metadata": {},
   "outputs": [],
   "source": [
    "# establishing connection to Keyspace\n",
    "session = cluster.connect()"
   ]
  },
  {
   "cell_type": "code",
   "execution_count": 88,
   "id": "967b4b22-8d56-4789-8a39-4bb893aa6b31",
   "metadata": {},
   "outputs": [
    {
     "name": "stdout",
     "output_type": "stream",
     "text": [
      "[Row(keyspace_name='system_schema', durable_writes=True, replication=OrderedMapSerializedKey([('class', 'org.apache.cassandra.locator.SimpleStrategy'), ('replication_factor', '3')])), Row(keyspace_name='system_schema_mcs', durable_writes=True, replication=OrderedMapSerializedKey([('class', 'org.apache.cassandra.locator.SimpleStrategy'), ('replication_factor', '3')])), Row(keyspace_name='system', durable_writes=True, replication=OrderedMapSerializedKey([('class', 'org.apache.cassandra.locator.SimpleStrategy'), ('replication_factor', '3')])), Row(keyspace_name='system_multiregion_info', durable_writes=True, replication=OrderedMapSerializedKey([('class', 'org.apache.cassandra.locator.SimpleStrategy'), ('replication_factor', '3')])), Row(keyspace_name='de300_axc4282', durable_writes=True, replication=OrderedMapSerializedKey([('class', 'org.apache.cassandra.locator.SimpleStrategy'), ('replication_factor', '3')])), Row(keyspace_name='de300_demo', durable_writes=True, replication=OrderedMapSerializedKey([('class', 'org.apache.cassandra.locator.SimpleStrategy'), ('replication_factor', '3')])), Row(keyspace_name='de300_lab4', durable_writes=True, replication=OrderedMapSerializedKey([('class', 'org.apache.cassandra.locator.SimpleStrategy'), ('replication_factor', '3')])), Row(keyspace_name='de300_lrg4668', durable_writes=True, replication=OrderedMapSerializedKey([('class', 'org.apache.cassandra.locator.SimpleStrategy'), ('replication_factor', '3')])), Row(keyspace_name='de300_sabian_lab4', durable_writes=True, replication=OrderedMapSerializedKey([('class', 'org.apache.cassandra.locator.SimpleStrategy'), ('replication_factor', '3')])), Row(keyspace_name='de300_ttk6623', durable_writes=True, replication=OrderedMapSerializedKey([('class', 'org.apache.cassandra.locator.SimpleStrategy'), ('replication_factor', '3')])), Row(keyspace_name='ryan_beam', durable_writes=True, replication=OrderedMapSerializedKey([('class', 'org.apache.cassandra.locator.SimpleStrategy'), ('replication_factor', '3')])), Row(keyspace_name='seeley_hw2', durable_writes=True, replication=OrderedMapSerializedKey([('class', 'org.apache.cassandra.locator.SimpleStrategy'), ('replication_factor', '3')]))]\n"
     ]
    }
   ],
   "source": [
    "# Insert any CQL queries between .connect() and .shutdown()\n",
    "\n",
    "# For example, show all keyspaces created\n",
    "r = session.execute('''\n",
    "    SELECT * FROM system_schema.keyspaces;\n",
    "    ''')\n",
    "print(r.current_rows)"
   ]
  },
  {
   "cell_type": "code",
   "execution_count": 89,
   "id": "0c726e43-ea13-4674-89d8-b521980c2042",
   "metadata": {},
   "outputs": [
    {
     "name": "stdout",
     "output_type": "stream",
     "text": [
      "[]\n"
     ]
    }
   ],
   "source": [
    "# For example, create a keyspace for HW2\n",
    "r = session.execute('''\n",
    "    CREATE KEYSPACE IF NOT EXISTS seeley_hw2\n",
    "    WITH replication = {'class': 'SingleRegionStrategy'};\n",
    "    ''')\n",
    "print(r.current_rows)"
   ]
  },
  {
   "cell_type": "code",
   "execution_count": 91,
   "id": "e903be91-caad-4e66-8b09-dbddbb04f7e6",
   "metadata": {},
   "outputs": [],
   "source": [
    "from cassandra.cluster import ExecutionProfile, EXEC_PROFILE_DEFAULT\n",
    "from cassandra import ConsistencyLevel\n",
    "\n",
    "\n",
    "# Define execution profile with LOCAL_QUORUM\n",
    "execution_profile = ExecutionProfile(\n",
    "    consistency_level=ConsistencyLevel.LOCAL_QUORUM\n",
    ")\n",
    "\n",
    "# Cluster setup with correct profile\n",
    "cluster = Cluster(\n",
    "    ['cassandra.us-east-2.amazonaws.com'],\n",
    "    ssl_context=ssl_context,\n",
    "    auth_provider=auth_provider,\n",
    "    port=9142,\n",
    "    execution_profiles={EXEC_PROFILE_DEFAULT: execution_profile}\n",
    ")\n",
    "\n",
    "# establishing connection to Keyspace\n",
    "session = cluster.connect()\n",
    "session.set_keyspace('seeley_hw2')  # Replace with your keyspace"
   ]
  },
  {
   "cell_type": "markdown",
   "id": "c8117b5a-4d70-4135-87bb-e1c6d96fba04",
   "metadata": {},
   "source": [
    "-------------"
   ]
  },
  {
   "cell_type": "markdown",
   "id": "76558689-cbbd-4fea-b2bd-caa841156bda",
   "metadata": {},
   "source": [
    "Question 1:"
   ]
  },
  {
   "cell_type": "code",
   "execution_count": 96,
   "id": "f5109d55-5a73-4cd8-ad47-244e40d37aa9",
   "metadata": {},
   "outputs": [
    {
     "data": {
      "text/plain": [
       "<cassandra.cluster.ResultSet at 0x142227e10>"
      ]
     },
     "execution_count": 96,
     "metadata": {},
     "output_type": "execute_result"
    }
   ],
   "source": [
    "session.execute(\"\"\"\n",
    "    CREATE TABLE IF NOT EXISTS DRUGS_ETHN (\n",
    "        ethnicity TEXT,\n",
    "        drug TEXT,\n",
    "        total_drug INT,\n",
    "        PRIMARY KEY (ethnicity, drug)\n",
    "    )\n",
    "\"\"\")"
   ]
  },
  {
   "cell_type": "code",
   "execution_count": 105,
   "id": "eea0b631-dcc0-46d8-9e90-e0cf2f129391",
   "metadata": {},
   "outputs": [
    {
     "name": "stdout",
     "output_type": "stream",
     "text": [
      "Index(['ethnicity', 'drug', 'TOTAL_DRUG'], dtype='object')\n"
     ]
    }
   ],
   "source": [
    "drugs_ethn_df = conn.execute(\"SELECT * FROM DRUGS_ETHN\").fetchdf()\n",
    "\n",
    "print(drugs_ethn_df.columns)"
   ]
  },
  {
   "cell_type": "code",
   "execution_count": 107,
   "id": "d924a756-d0a6-41f4-8758-03e5a6127987",
   "metadata": {},
   "outputs": [],
   "source": [
    "insert_stmt_1 = session.prepare(\"\"\"\n",
    "    INSERT INTO drugs_ethn (ethnicity, drug, total_drug)\n",
    "    VALUES (?, ?, ?)\n",
    "\"\"\")\n",
    "\n",
    "for row in drugs_ethn_df.itertuples(index=False):\n",
    "    session.execute(insert_stmt_1, (row.ethnicity, row.drug, int(row.TOTAL_DRUG)))"
   ]
  },
  {
   "cell_type": "code",
   "execution_count": 108,
   "id": "0603ade8-5b66-4cff-ae0d-1eb199ed1310",
   "metadata": {},
   "outputs": [],
   "source": [
    "import csv\n",
    "\n",
    "rows = session.execute(\"SELECT * FROM drugs_ethn\")\n",
    "with open(\"drugs_ethn.csv\", \"w\", newline=\"\") as f:\n",
    "    writer = csv.writer(f)\n",
    "    writer.writerow([\"ethnicity\", \"drug\", \"total_drug\"])\n",
    "    for row in rows:\n",
    "        writer.writerow([row.ethnicity, row.drug, int(row.total_drug)])"
   ]
  },
  {
   "cell_type": "markdown",
   "id": "34183cc0-e810-41bf-890c-6981475b5fd4",
   "metadata": {},
   "source": [
    "--------------"
   ]
  },
  {
   "cell_type": "markdown",
   "id": "1162a48b-5c0c-46df-b4e2-428ac321f9a5",
   "metadata": {},
   "source": [
    "Question 2:"
   ]
  },
  {
   "cell_type": "code",
   "execution_count": 119,
   "id": "c94afd43-8e8f-4ca4-8cf7-f844e15c6451",
   "metadata": {},
   "outputs": [
    {
     "data": {
      "text/plain": [
       "<cassandra.cluster.ResultSet at 0x13782a010>"
      ]
     },
     "execution_count": 119,
     "metadata": {},
     "output_type": "execute_result"
    }
   ],
   "source": [
    "session.execute(\"\"\"\n",
    "    CREATE TABLE IF NOT EXISTS PROC_AGE (\n",
    "        AGE_GROUP TEXT,\n",
    "        icd9_code INT,\n",
    "        TOTAL_PROC INT,\n",
    "        PRIMARY KEY (AGE_GROUP, icd9_code)\n",
    "    )\n",
    "\"\"\")"
   ]
  },
  {
   "cell_type": "code",
   "execution_count": 121,
   "id": "063fdd95-8e6e-4c74-88f6-1d030d658060",
   "metadata": {},
   "outputs": [],
   "source": [
    "proc_age_df = conn.execute(\"SELECT * FROM PROC_AGE\").fetchdf()"
   ]
  },
  {
   "cell_type": "code",
   "execution_count": 123,
   "id": "774fe2d8-fde0-44f7-b67c-2bcc6689044e",
   "metadata": {},
   "outputs": [],
   "source": [
    "insert_stmt_2 = session.prepare(\"\"\"\n",
    "    INSERT INTO PROC_AGE (AGE_GROUP, icd9_code, TOTAL_PROC)\n",
    "    VALUES (?, ?, ?)\n",
    "\"\"\")\n",
    "\n",
    "for row in proc_age_df.itertuples(index=False):\n",
    "    session.execute(insert_stmt_2, (row.AGE_GROUP, row.icd9_code, row.TOTAL_PROC))"
   ]
  },
  {
   "cell_type": "code",
   "execution_count": 128,
   "id": "cce96cec-914b-45fc-8298-6dd047ed2337",
   "metadata": {},
   "outputs": [],
   "source": [
    "rows = session.execute(\"SELECT * FROM PROC_AGE\")\n",
    "with open(\"proc_age.csv\", \"w\", newline=\"\") as f:\n",
    "    writer = csv.writer(f)\n",
    "    writer.writerow([\"AGE_GROUP\", \"icd9_code\", \"TOTAL_PROC\"])\n",
    "    for row in rows:\n",
    "        writer.writerow([row.age_group, row.icd9_code, row.total_proc])"
   ]
  },
  {
   "cell_type": "code",
   "execution_count": 130,
   "id": "c027786c-400c-4d3c-b6fc-26050c4c402f",
   "metadata": {},
   "outputs": [
    {
     "data": {
      "text/plain": [
       "<cassandra.cluster.ResultSet at 0x1446f1bd0>"
      ]
     },
     "execution_count": 130,
     "metadata": {},
     "output_type": "execute_result"
    }
   ],
   "source": [
    "session.execute(\"\"\"\n",
    "    CREATE TABLE IF NOT EXISTS TOP_PROC_AGE (\n",
    "        AGE_GROUP TEXT,\n",
    "        short_title TEXT,\n",
    "        TOTAL_PROC INT,\n",
    "        PRIMARY KEY (AGE_GROUP, short_title)\n",
    "    )\n",
    "\"\"\")"
   ]
  },
  {
   "cell_type": "code",
   "execution_count": 143,
   "id": "d4287378-000c-4571-9a88-a220b46df8de",
   "metadata": {},
   "outputs": [],
   "source": [
    "proc_age_df_1 = conn.execute(\"SELECT * FROM PROC_AGE_1\").fetchdf()\n",
    "proc_age_df_2 = conn.execute(\"SELECT * FROM PROC_AGE_2\").fetchdf()\n",
    "proc_age_df_3 = conn.execute(\"SELECT * FROM PROC_AGE_3\").fetchdf()\n",
    "proc_age_df_4 = conn.execute(\"SELECT * FROM PROC_AGE_4\").fetchdf()"
   ]
  },
  {
   "cell_type": "code",
   "execution_count": 145,
   "id": "b2656f06-ef53-46c2-873f-6bb923d644d4",
   "metadata": {},
   "outputs": [],
   "source": [
    "insert_stmt_3 = session.prepare(\"\"\"\n",
    "    INSERT INTO TOP_PROC_AGE (AGE_GROUP, short_title, TOTAL_PROC)\n",
    "    VALUES (?, ?, ?)\n",
    "\"\"\")\n",
    "\n",
    "for row in proc_age_df_1.itertuples(index=False):\n",
    "    session.execute(insert_stmt_3, (row.AGE_GROUP, row.short_title, row.TOTAL_PROC))\n",
    "\n",
    "for row in proc_age_df_2.itertuples(index=False):\n",
    "    session.execute(insert_stmt_3, (row.AGE_GROUP, row.short_title, row.TOTAL_PROC))\n",
    "\n",
    "for row in proc_age_df_3.itertuples(index=False):\n",
    "    session.execute(insert_stmt_3, (row.AGE_GROUP, row.short_title, row.TOTAL_PROC))\n",
    "\n",
    "for row in proc_age_df_4.itertuples(index=False):\n",
    "    session.execute(insert_stmt_3, (row.AGE_GROUP, row.short_title, row.TOTAL_PROC))"
   ]
  },
  {
   "cell_type": "code",
   "execution_count": 147,
   "id": "75ec0fef-d2fd-43bd-83d9-d77ae64158a4",
   "metadata": {},
   "outputs": [],
   "source": [
    "rows = session.execute(\"SELECT * FROM TOP_PROC_AGE\")\n",
    "with open(\"proc_age_top.csv\", \"w\", newline=\"\") as f:\n",
    "    writer = csv.writer(f)\n",
    "    writer.writerow([\"AGE_GROUP\", \"short_title\", \"TOTAL_PROC\"])\n",
    "    for row in rows:\n",
    "        writer.writerow([row.age_group, row.short_title, row.total_proc])"
   ]
  },
  {
   "cell_type": "markdown",
   "id": "48ea91ed-684d-4f5c-9013-3c4871362c09",
   "metadata": {},
   "source": [
    "-------------"
   ]
  },
  {
   "cell_type": "markdown",
   "id": "d4346fb6-0af2-4200-a0c3-24b9217c0d62",
   "metadata": {},
   "source": [
    "Question 3:"
   ]
  },
  {
   "cell_type": "code",
   "execution_count": 152,
   "id": "5d75251d-ebaf-40b8-80a5-e9d43ccdb97d",
   "metadata": {},
   "outputs": [
    {
     "data": {
      "text/plain": [
       "<cassandra.cluster.ResultSet at 0x14486bb90>"
      ]
     },
     "execution_count": 152,
     "metadata": {},
     "output_type": "execute_result"
    }
   ],
   "source": [
    "session.execute(\"\"\"\n",
    "    CREATE TABLE IF NOT EXISTS ICU_GENDER (\n",
    "        gender TEXT,\n",
    "        AVG_LOS DOUBLE,\n",
    "        PRIMARY KEY (gender, AVG_LOS)\n",
    "    )\n",
    "\"\"\")"
   ]
  },
  {
   "cell_type": "code",
   "execution_count": 154,
   "id": "84773d74-c886-4c3e-873d-9674115fd47f",
   "metadata": {},
   "outputs": [],
   "source": [
    "gender_icu_df = conn.execute(\"SELECT * FROM ICU_GENDER\").fetchdf()"
   ]
  },
  {
   "cell_type": "code",
   "execution_count": 156,
   "id": "6294c425-90b8-4636-98d1-2625e19a7c4b",
   "metadata": {},
   "outputs": [],
   "source": [
    "insert_stmt_4 = session.prepare(\"\"\"\n",
    "    INSERT INTO ICU_GENDER (gender, AVG_LOS)\n",
    "    VALUES (?, ?)\n",
    "\"\"\")\n",
    "\n",
    "for row in gender_icu_df.itertuples(index=False):\n",
    "    session.execute(insert_stmt_4, (row.gender, row.AVG_LOS))"
   ]
  },
  {
   "cell_type": "code",
   "execution_count": 158,
   "id": "e9b40025-6fb1-4492-8a58-417e7ac41e66",
   "metadata": {},
   "outputs": [],
   "source": [
    "rows = session.execute(\"SELECT * FROM ICU_GENDER\")\n",
    "with open(\"gender_icu.csv\", \"w\", newline=\"\") as f:\n",
    "    writer = csv.writer(f)\n",
    "    writer.writerow([\"gender\", \"AVG_LOS\"])\n",
    "    for row in rows:\n",
    "        writer.writerow([row.gender, row.avg_los])"
   ]
  },
  {
   "cell_type": "code",
   "execution_count": 160,
   "id": "c1ae1d8c-26dd-4c25-80a2-8db1ca2c5def",
   "metadata": {},
   "outputs": [
    {
     "data": {
      "text/plain": [
       "<cassandra.cluster.ResultSet at 0x144886c10>"
      ]
     },
     "execution_count": 160,
     "metadata": {},
     "output_type": "execute_result"
    }
   ],
   "source": [
    "session.execute(\"\"\"\n",
    "    CREATE TABLE IF NOT EXISTS ICU_ETHN (\n",
    "        ethnicity TEXT,\n",
    "        AVG_LOS DOUBLE,\n",
    "        PRIMARY KEY (ethnicity, AVG_LOS)\n",
    "    )\n",
    "\"\"\")"
   ]
  },
  {
   "cell_type": "code",
   "execution_count": 186,
   "id": "e40c979a-3b9e-444a-bebe-8246fd9c677f",
   "metadata": {},
   "outputs": [],
   "source": [
    "ethn_icu_df = conn.execute(\"SELECT * FROM ICU_ETHN\").fetchdf()"
   ]
  },
  {
   "cell_type": "code",
   "execution_count": 188,
   "id": "a7fcae7e-c45f-45c3-957f-21927b65623d",
   "metadata": {},
   "outputs": [],
   "source": [
    "insert_stmt_5 = session.prepare(\"\"\"\n",
    "    INSERT INTO ICU_ETHN (ethnicity, AVG_LOS)\n",
    "    VALUES (?, ?)\n",
    "\"\"\")\n",
    "\n",
    "for row in ethn_icu_df.itertuples(index=False):\n",
    "    session.execute(insert_stmt_5, (row.ethnicity, row.AVG_LOS))"
   ]
  },
  {
   "cell_type": "code",
   "execution_count": 190,
   "id": "f6479d00-89a1-4831-81fb-64599a23aabe",
   "metadata": {},
   "outputs": [],
   "source": [
    "rows = session.execute(\"SELECT * FROM ICU_ETHN\")\n",
    "with open(\"ethnicity_icu.csv\", \"w\", newline=\"\") as f:\n",
    "    writer = csv.writer(f)\n",
    "    writer.writerow([\"ethnicity\", \"AVG_LOS\"])\n",
    "    for row in rows:\n",
    "        writer.writerow([row.ethnicity, row.avg_los])"
   ]
  },
  {
   "cell_type": "markdown",
   "id": "c26c70eb-13d9-4706-98df-c4eabb91014e",
   "metadata": {},
   "source": [
    "--------"
   ]
  }
 ],
 "metadata": {
  "kernelspec": {
   "display_name": "Python 3 (ipykernel)",
   "language": "python",
   "name": "python3"
  },
  "language_info": {
   "codemirror_mode": {
    "name": "ipython",
    "version": 3
   },
   "file_extension": ".py",
   "mimetype": "text/x-python",
   "name": "python",
   "nbconvert_exporter": "python",
   "pygments_lexer": "ipython3",
   "version": "3.11.7"
  }
 },
 "nbformat": 4,
 "nbformat_minor": 5
}
