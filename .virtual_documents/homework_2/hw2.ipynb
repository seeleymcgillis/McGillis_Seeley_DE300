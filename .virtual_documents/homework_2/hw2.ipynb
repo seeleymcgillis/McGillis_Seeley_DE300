





!pip install duckdb==1.2.2
import duckdb


# establish connection
conn = duckdb.connect('mimic.db', read_only=False)

#conn.execute("""
#CREATE TABLE PRESCRIPTIONS AS
#SELECT * FROM read_csv_auto('PRESCRIPTIONS.csv')
#""")

conn.sql('SHOW TABLES;')








conn.sql('PRAGMA table_info(PATIENTS);')


conn.sql('PRAGMA table_info(ADMISSIONS);')


conn.sql(
    """
    CREATE OR REPLACE TABLE DRUGS_ETHN AS
    SELECT
        ADMISSIONS.ETHNICITY,
        PRESCRIPTIONS.DRUG,
        COUNT(PRESCRIPTIONS.DRUG) AS TOTAL_DRUG
    FROM ADMISSIONS
    JOIN PRESCRIPTIONS ON ADMISSIONS.SUBJECT_ID = PRESCRIPTIONS.SUBJECT_ID
    GROUP BY ADMISSIONS.ETHNICITY, PRESCRIPTIONS.DRUG;
    """
)


conn.sql(
    """
    SELECT * FROM DRUGS_ETHN;
    """
)


conn.sql(
    """
    SELECT ETHNICITY, DRUG, TOTAL_DRUG
    FROM DRUGS_ETHN
    WHERE (ETHNICITY, TOTAL_DRUG) IN (SELECT ETHNICITY, MAX(TOTAL_DRUG) FROM DRUGS_ETHN GROUP BY ETHNICITY)
    ORDER BY ETHNICITY
    """
)








conn.sql('PRAGMA table_info(PROCS_ICD);')


conn.sql('PRAGMA table_info(D_ICDPROCS);')


conn.sql(
    """
    SELECT DOB FROM PATIENTS
    """
)


conn.sql(
    """
    CREATE OR REPLACE TABLE PROC_AGE AS
    SELECT
        CASE
            WHEN CAST(STRFTIME('%Y', CAST(ADMISSIONS.ADMITTIME AS DATE)) AS INT) - CAST(STRFTIME('%Y', CAST(PATIENTS.DOB AS DATE)) AS INT) <= 19 THEN '<=19'
            WHEN CAST(STRFTIME('%Y', CAST(ADMISSIONS.ADMITTIME AS DATE)) AS INT) - CAST(STRFTIME('%Y', CAST(PATIENTS.DOB AS DATE)) AS INT) BETWEEN 20 AND 49 THEN '20-49'
            WHEN CAST(STRFTIME('%Y', CAST(ADMISSIONS.ADMITTIME AS DATE)) AS INT) - CAST(STRFTIME('%Y', CAST(PATIENTS.DOB AS DATE)) AS INT) BETWEEN 50 AND 79 THEN '50-79'
            ELSE '>80'
        END AS AGE_GROUP,
        PROCS_ICD.ICD9_CODE,
        COUNT(PROCS_ICD.ICD9_CODE) AS TOTAL_PROC
    FROM ADMISSIONS
    JOIN PATIENTS ON ADMISSIONS.SUBJECT_ID = PATIENTS.SUBJECT_ID
    JOIN PROCS_ICD ON ADMISSIONS.HADM_ID = PROCS_ICD.HADM_ID
    GROUP BY AGE_GROUP, PROCS_ICD.ICD9_CODE;
    """
)


#Display table
conn.sql(
    """
    SELECT * FROM PROC_AGE;
    """
)


#Report the top three procedures performed in <=19 age group
conn.sql(
    """
    CREATE OR REPLACE TABLE PROC_AGE_1 AS
    SELECT AGE_GROUP, D_ICDPROCS.SHORT_TITLE, TOTAL_PROC
    FROM PROC_AGE
    JOIN D_ICDPROCS ON PROC_AGE.ICD9_CODE = D_ICDPROCS.ICD9_CODE
    WHERE AGE_GROUP = '<=19'
    ORDER BY TOTAL_PROC DESC
    LIMIT 3
    """
)


#Display table
conn.sql(
    """
    SELECT * FROM PROC_AGE_1;
    """
)


#Report the top three procedures performed in 20-49 age group
conn.sql(
    """
    CREATE OR REPLACE TABLE PROC_AGE_2 AS
    SELECT AGE_GROUP, D_ICDPROCS.SHORT_TITLE, TOTAL_PROC
    FROM PROC_AGE
    JOIN D_ICDPROCS ON PROC_AGE.ICD9_CODE = D_ICDPROCS.ICD9_CODE
    WHERE AGE_GROUP = '20-49'
    ORDER BY TOTAL_PROC DESC
    LIMIT 3
    """
)


#Display table
conn.sql(
    """
    SELECT * FROM PROC_AGE_2;
    """
)


#Report the top three procedures performed in 50-79 age group
conn.sql(
    """
    CREATE OR REPLACE TABLE PROC_AGE_3 AS
    SELECT AGE_GROUP, D_ICDPROCS.SHORT_TITLE, TOTAL_PROC
    FROM PROC_AGE
    JOIN D_ICDPROCS ON PROC_AGE.ICD9_CODE = D_ICDPROCS.ICD9_CODE
    WHERE AGE_GROUP = '50-79'
    ORDER BY TOTAL_PROC DESC
    LIMIT 3
    """
)


#Display table
conn.sql(
    """
    SELECT * FROM PROC_AGE_3;
    """
)


#Report the top three procedures performed in >80 age group
conn.sql(
    """
    CREATE OR REPLACE TABLE PROC_AGE_4 AS
    SELECT AGE_GROUP, D_ICDPROCS.SHORT_TITLE, TOTAL_PROC
    FROM PROC_AGE
    JOIN D_ICDPROCS ON PROC_AGE.ICD9_CODE = D_ICDPROCS.ICD9_CODE
    WHERE AGE_GROUP = '>80'
    ORDER BY TOTAL_PROC DESC
    LIMIT 3
    """
)


#Display table
conn.sql(
    """
    SELECT * FROM PROC_AGE_4;
    """
)








conn.sql('PRAGMA table_info(ICUSTAYS);')


conn.sql(
    """
    SELECT AVG(ICUSTAYS.LOS) AS AVG_LOS
    FROM ICUSTAYS;
    """
)


conn.sql(
    """
    CREATE OR REPLACE TABLE ICU_GENDER AS
    SELECT PATIENTS.GENDER, AVG(ICUSTAYS.LOS) AS AVG_LOS
    FROM ICUSTAYS
    JOIN PATIENTS ON ICUSTAYS.SUBJECT_ID = PATIENTS.SUBJECT_ID
    GROUP BY PATIENTS.GENDER;
    """
)


#Display table
conn.sql(
    """
    SELECT * FROM ICU_GENDER;
    """
)


conn.sql(
    """
    CREATE OR REPLACE TABLE ICU_ETHN AS
    SELECT ADMISSIONS.ETHNICITY, AVG(ICUSTAYS.LOS) AS AVG_LOS
    FROM ICUSTAYS
    JOIN ADMISSIONS ON ICUSTAYS.SUBJECT_ID = ADMISSIONS.SUBJECT_ID
    GROUP BY ADMISSIONS.ETHNICITY;
    """
)


#Display table
conn.sql(
    """
    SELECT * FROM ICU_ETHN;
    """
)











!curl https://certs.secureserver.net/repository/sf-class2-root.crt -O


%pip install cassandra-sigv4


from cassandra.cluster import Cluster
from ssl import SSLContext, PROTOCOL_TLSv1_2, CERT_REQUIRED
from cassandra_sigv4.auth import SigV4AuthProvider
import boto3

# ssl setup
ssl_context = SSLContext(PROTOCOL_TLSv1_2)
ssl_context.load_verify_locations('sf-class2-root.crt')  # change your file path for locating the certificate
ssl_context.verify_mode = CERT_REQUIRED

# boto3 session setup
boto_session = boto3.Session(region_name="us-east-2")  # this AWS credentials is specific to `us-east-2` region


# authorization setup with SigV4
auth_provider = SigV4AuthProvider(boto_session)


#cluster setup 
cluster = Cluster(['cassandra.us-east-2.amazonaws.com'], 
                  ssl_context=ssl_context, 
                  auth_provider=auth_provider, 
                  port=9142)  # TLS only communicates on port 9142


# establishing connection to Keyspace
session = cluster.connect()


# Insert any CQL queries between .connect() and .shutdown()

# For example, show all keyspaces created
r = session.execute('''
    SELECT * FROM system_schema.keyspaces;
    ''')
print(r.current_rows)


# For example, create a keyspace for HW2
r = session.execute('''
    CREATE KEYSPACE IF NOT EXISTS seeley_hw2
    WITH replication = {'class': 'SingleRegionStrategy'};
    ''')
print(r.current_rows)


from cassandra.cluster import ExecutionProfile, EXEC_PROFILE_DEFAULT
from cassandra import ConsistencyLevel


# Define execution profile with LOCAL_QUORUM
execution_profile = ExecutionProfile(
    consistency_level=ConsistencyLevel.LOCAL_QUORUM
)

# Cluster setup with correct profile
cluster = Cluster(
    ['cassandra.us-east-2.amazonaws.com'],
    ssl_context=ssl_context,
    auth_provider=auth_provider,
    port=9142,
    execution_profiles={EXEC_PROFILE_DEFAULT: execution_profile}
)

# establishing connection to Keyspace
session = cluster.connect()
session.set_keyspace('seeley_hw2')  # Replace with your keyspace








session.execute("""
    CREATE TABLE IF NOT EXISTS DRUGS_ETHN (
        ethnicity TEXT,
        drug TEXT,
        total_drug INT,
        PRIMARY KEY (ethnicity, drug)
    )
""")


drugs_ethn_df = conn.execute("SELECT * FROM DRUGS_ETHN").fetchdf()

print(drugs_ethn_df.columns)


insert_stmt_1 = session.prepare("""
    INSERT INTO drugs_ethn (ethnicity, drug, total_drug)
    VALUES (?, ?, ?)
""")

for row in drugs_ethn_df.itertuples(index=False):
    session.execute(insert_stmt_1, (row.ethnicity, row.drug, int(row.TOTAL_DRUG)))


import csv

rows = session.execute("SELECT * FROM drugs_ethn")
with open("drugs_ethn.csv", "w", newline="") as f:
    writer = csv.writer(f)
    writer.writerow(["ethnicity", "drug", "total_drug"])
    for row in rows:
        writer.writerow([row.ethnicity, row.drug, int(row.total_drug)])








session.execute("""
    CREATE TABLE IF NOT EXISTS PROC_AGE (
        AGE_GROUP TEXT,
        icd9_code INT,
        TOTAL_PROC INT,
        PRIMARY KEY (AGE_GROUP, icd9_code)
    )
""")


proc_age_df = conn.execute("SELECT * FROM PROC_AGE").fetchdf()


insert_stmt_2 = session.prepare("""
    INSERT INTO PROC_AGE (AGE_GROUP, icd9_code, TOTAL_PROC)
    VALUES (?, ?, ?)
""")

for row in proc_age_df.itertuples(index=False):
    session.execute(insert_stmt_2, (row.AGE_GROUP, row.icd9_code, row.TOTAL_PROC))


rows = session.execute("SELECT * FROM PROC_AGE")
with open("proc_age.csv", "w", newline="") as f:
    writer = csv.writer(f)
    writer.writerow(["AGE_GROUP", "icd9_code", "TOTAL_PROC"])
    for row in rows:
        writer.writerow([row.age_group, row.icd9_code, row.total_proc])


session.execute("""
    CREATE TABLE IF NOT EXISTS TOP_PROC_AGE (
        AGE_GROUP TEXT,
        short_title TEXT,
        TOTAL_PROC INT,
        PRIMARY KEY (AGE_GROUP, short_title)
    )
""")


proc_age_df_1 = conn.execute("SELECT * FROM PROC_AGE_1").fetchdf()
proc_age_df_2 = conn.execute("SELECT * FROM PROC_AGE_2").fetchdf()
proc_age_df_3 = conn.execute("SELECT * FROM PROC_AGE_3").fetchdf()
proc_age_df_4 = conn.execute("SELECT * FROM PROC_AGE_4").fetchdf()


insert_stmt_3 = session.prepare("""
    INSERT INTO TOP_PROC_AGE (AGE_GROUP, short_title, TOTAL_PROC)
    VALUES (?, ?, ?)
""")

for row in proc_age_df_1.itertuples(index=False):
    session.execute(insert_stmt_3, (row.AGE_GROUP, row.short_title, row.TOTAL_PROC))

for row in proc_age_df_2.itertuples(index=False):
    session.execute(insert_stmt_3, (row.AGE_GROUP, row.short_title, row.TOTAL_PROC))

for row in proc_age_df_3.itertuples(index=False):
    session.execute(insert_stmt_3, (row.AGE_GROUP, row.short_title, row.TOTAL_PROC))

for row in proc_age_df_4.itertuples(index=False):
    session.execute(insert_stmt_3, (row.AGE_GROUP, row.short_title, row.TOTAL_PROC))


rows = session.execute("SELECT * FROM TOP_PROC_AGE")
with open("proc_age_top.csv", "w", newline="") as f:
    writer = csv.writer(f)
    writer.writerow(["AGE_GROUP", "short_title", "TOTAL_PROC"])
    for row in rows:
        writer.writerow([row.age_group, row.short_title, row.total_proc])








session.execute("""
    CREATE TABLE IF NOT EXISTS ICU_GENDER (
        gender TEXT,
        AVG_LOS DOUBLE,
        PRIMARY KEY (gender, AVG_LOS)
    )
""")


gender_icu_df = conn.execute("SELECT * FROM ICU_GENDER").fetchdf()


insert_stmt_4 = session.prepare("""
    INSERT INTO ICU_GENDER (gender, AVG_LOS)
    VALUES (?, ?)
""")

for row in gender_icu_df.itertuples(index=False):
    session.execute(insert_stmt_4, (row.gender, row.AVG_LOS))


rows = session.execute("SELECT * FROM ICU_GENDER")
with open("gender_icu.csv", "w", newline="") as f:
    writer = csv.writer(f)
    writer.writerow(["gender", "AVG_LOS"])
    for row in rows:
        writer.writerow([row.gender, row.avg_los])


session.execute("""
    CREATE TABLE IF NOT EXISTS ICU_ETHN (
        ethnicity TEXT,
        AVG_LOS DOUBLE,
        PRIMARY KEY (ethnicity, AVG_LOS)
    )
""")


ethn_icu_df = conn.execute("SELECT * FROM ICU_ETHN").fetchdf()


insert_stmt_5 = session.prepare("""
    INSERT INTO ICU_ETHN (ethnicity, AVG_LOS)
    VALUES (?, ?)
""")

for row in ethn_icu_df.itertuples(index=False):
    session.execute(insert_stmt_5, (row.ethnicity, row.AVG_LOS))


rows = session.execute("SELECT * FROM ICU_ETHN")
with open("ethnicity_icu.csv", "w", newline="") as f:
    writer = csv.writer(f)
    writer.writerow(["ethnicity", "AVG_LOS"])
    for row in rows:
        writer.writerow([row.ethnicity, row.avg_los])



